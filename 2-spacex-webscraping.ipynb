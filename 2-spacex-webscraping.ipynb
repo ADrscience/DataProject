{
 "cells": [
  {
   "cell_type": "markdown",
   "metadata": {},
   "source": [
    "<p style=\"text-align:center\">\n",
    "    <a href=\"https://skills.network\" target=\"_blank\">\n",
    "    <img src=\"https://cf-courses-data.s3.us.cloud-object-storage.appdomain.cloud/assets/logos/SN_web_lightmode.png\" width=\"200\" alt=\"Skills Network Logo\">\n",
    "    </a>\n",
    "</p>\n"
   ]
  },
  {
   "cell_type": "markdown",
   "metadata": {},
   "source": [
    "# **Space X  Falcon 9 First Stage Landing Prediction**\n"
   ]
  },
  {
   "cell_type": "markdown",
   "metadata": {},
   "source": [
    "## Web scraping Falcon 9 and Falcon Heavy Launches Records from Wikipedia\n"
   ]
  },
  {
   "cell_type": "markdown",
   "metadata": {},
   "source": [
    "Estimated time needed: **40** minutes\n"
   ]
  },
  {
   "cell_type": "markdown",
   "metadata": {},
   "source": [
    "In this lab, you will be performing web scraping to collect Falcon 9 historical launch records from a Wikipedia page titled `List of Falcon 9 and Falcon Heavy launches`\n",
    "\n",
    "https://en.wikipedia.org/wiki/List_of_Falcon_9_and_Falcon_Heavy_launches\n"
   ]
  },
  {
   "cell_type": "markdown",
   "metadata": {},
   "source": [
    "![](https://cf-courses-data.s3.us.cloud-object-storage.appdomain.cloud/IBM-DS0321EN-SkillsNetwork/labs/module_1_L2/images/Falcon9_rocket_family.svg)\n"
   ]
  },
  {
   "cell_type": "markdown",
   "metadata": {},
   "source": [
    "Falcon 9 first stage will land successfully\n"
   ]
  },
  {
   "cell_type": "markdown",
   "metadata": {},
   "source": [
    "![](https://cf-courses-data.s3.us.cloud-object-storage.appdomain.cloud/IBMDeveloperSkillsNetwork-DS0701EN-SkillsNetwork/api/Images/landing_1.gif)\n"
   ]
  },
  {
   "cell_type": "markdown",
   "metadata": {},
   "source": [
    "Several examples of an unsuccessful landing are shown here:\n"
   ]
  },
  {
   "cell_type": "markdown",
   "metadata": {},
   "source": [
    "![](https://cf-courses-data.s3.us.cloud-object-storage.appdomain.cloud/IBMDeveloperSkillsNetwork-DS0701EN-SkillsNetwork/api/Images/crash.gif)\n"
   ]
  },
  {
   "cell_type": "markdown",
   "metadata": {},
   "source": [
    "More specifically, the launch records are stored in a HTML table shown below:\n"
   ]
  },
  {
   "cell_type": "markdown",
   "metadata": {},
   "source": [
    "![](https://cf-courses-data.s3.us.cloud-object-storage.appdomain.cloud/IBM-DS0321EN-SkillsNetwork/labs/module_1_L2/images/falcon9-launches-wiki.png)\n"
   ]
  },
  {
   "cell_type": "markdown",
   "metadata": {},
   "source": [
    "  ## Objectives\n",
    "Web scrap Falcon 9 launch records with `BeautifulSoup`: \n",
    "- Extract a Falcon 9 launch records HTML table from Wikipedia\n",
    "- Parse the table and convert it into a Pandas data frame\n"
   ]
  },
  {
   "cell_type": "markdown",
   "metadata": {},
   "source": [
    "First let's import required packages for this lab\n"
   ]
  },
  {
   "cell_type": "code",
   "execution_count": 20,
   "metadata": {
    "tags": []
   },
   "outputs": [],
   "source": [
    "#import sys\n",
    "# Importing the requests module to perform HTTP requests\n",
    "import requests\n",
    "\n",
    "# Importing BeautifulSoup from bs4 for parsing HTML and XML documents\n",
    "from bs4 import BeautifulSoup\n",
    "\n",
    "# Importing the re module for regular expression operations\n",
    "import re\n",
    "\n",
    "# Importing the unicodedata module to handle and normalize Unicode text\n",
    "import unicodedata\n",
    "\n",
    "# Importing pandas for data manipulation and analysis\n",
    "import pandas as pd"
   ]
  },
  {
   "cell_type": "markdown",
   "metadata": {},
   "source": [
    "and we will provide some helper functions for you to process web scraped HTML table\n"
   ]
  },
  {
   "cell_type": "code",
   "execution_count": 21,
   "metadata": {
    "tags": []
   },
   "outputs": [],
   "source": [
    "import unicodedata  # Imports the unicodedata module to normalize Unicode text and remove accented characters or special symbols.\n",
    "\n",
    "def date_time(table_cells):\n",
    "\t\"\"\"\n",
    "\tExtracts the date and time from an HTML table cell.\n",
    "\n",
    "\tParameters:\n",
    "\t\ttable_cells: BeautifulSoup object representing a <td> cell in a table.\n",
    "\n",
    "\tReturns:\n",
    "\t\tA list with the first two text elements obtained from the cell, which typically\n",
    "\t\tcontain the date and time (e.g., ['2020-03-06', '17:50 UTC']).\n",
    "\t\"\"\"\n",
    "\t# Iterates through all text strings found within the cell,\n",
    "\t# strips leading and trailing whitespace from each string,\n",
    "\t# and returns only the first two elements.\n",
    "\treturn [data_time.strip() for data_time in list(table_cells.strings)][0:2]\n",
    "\n",
    "\n",
    "def booster_version(table_cells):\n",
    "\t\"\"\"\n",
    "\tExtracts and forms a string representing the booster version from an HTML table cell.\n",
    "\n",
    "\tParameters:\n",
    "\t\ttable_cells: BeautifulSoup object representing a <td> cell in a table.\n",
    "\n",
    "\tReturns:\n",
    "\t\tA string describing the booster version, for example: 'Falcon 9 Block 5 B1051.4'.\n",
    "\t\"\"\"\n",
    "\t# Iterates through each text string in the cell along with its index using enumerate.\n",
    "\t# Selects only those strings at even positions (i % 2 == 0),\n",
    "\t# which discards alternate elements that are not needed.\n",
    "\t# Then removes the last element from the resulting list (with [0:-1]) and joins all strings into one.\n",
    "\tout = ''.join([booster_version for i, booster_version in enumerate(table_cells.strings) if i % 2 == 0][0:-1])\n",
    "\treturn out\n",
    "\n",
    "\n",
    "def landing_status(table_cells):\n",
    "\t\"\"\"\n",
    "\tExtracts the landing status from an HTML table cell.\n",
    "\n",
    "\tParameters:\n",
    "\t\ttable_cells: BeautifulSoup object representing a <td> cell in a table.\n",
    "\n",
    "\tReturns:\n",
    "\t\tThe first text string in the cell, which generally indicates the landing status \n",
    "\t\t(e.g., 'Success' or 'Failure').\n",
    "\t\"\"\"\n",
    "\t# Creates a list from all strings in the cell and returns the first element.\n",
    "\tout = [i for i in table_cells.strings][0]\n",
    "\treturn out\n",
    "\n",
    "\n",
    "def get_mass(table_cells):\n",
    "\t\"\"\"\n",
    "\tExtracts and cleans the payload mass from an HTML table cell.\n",
    "\n",
    "\tParameters:\n",
    "\t\ttable_cells: BeautifulSoup object representing a <td> cell in a table.\n",
    "\n",
    "\tReturns:\n",
    "\t\tA string representing the payload mass (e.g., '8300 kg').\n",
    "\t\tIf no mass information is found, returns 0.\n",
    "\t\"\"\"\n",
    "\t# Normalizes the text to convert Unicode characters to their simplest form (e.g., accents)\n",
    "\t# and strips whitespace from the beginning and end.\n",
    "\tmass = unicodedata.normalize(\"NFKD\", table_cells.text).strip()\n",
    "\t\n",
    "\tif mass:\n",
    "\t\t# Finds the index where the substring \"kg\" is located and extracts the part of the text that contains it.\n",
    "\t\tnew_mass = mass[0:mass.find(\"kg\") + 2]\n",
    "\telse:\n",
    "\t\t# If there is no text in the cell, assigns 0 as the default value.\n",
    "\t\tnew_mass = 0\n",
    "\t\n",
    "\treturn new_mass\n",
    "\n",
    "\n",
    "def extract_column_from_header(row):\n",
    "\t\"\"\"\n",
    "\tExtracts and cleans the column name from an HTML header cell (<th>).\n",
    "\n",
    "\tParameters:\n",
    "\t\trow: BeautifulSoup object representing a <th> header cell.\n",
    "\n",
    "\tReturns:\n",
    "\t\tA string with the cleaned column name. \n",
    "\t\tIf the content is just a digit, returns None.\n",
    "\t\"\"\"\n",
    "\t# A header cell may contain internal tags (e.g., <br>, <a>, <sup>)\n",
    "\t# used for formatting but not part of the actual column name.\n",
    "\t\n",
    "\tif row.br:\n",
    "\t\t# If there is a <br> tag, remove it to avoid unnecessary line breaks.\n",
    "\t\trow.br.extract()\n",
    "\tif row.a:\n",
    "\t\t# If there is an <a> tag (link), remove it to avoid including texts or URLs that are not part of the name.\n",
    "\t\trow.a.extract()\n",
    "\tif row.sup:\n",
    "\t\t# If there is a <sup> tag (used for exponents, footnotes, or additional info),\n",
    "\t\t# remove it with extract(), which completely removes the tag and its content from the DOM tree.\n",
    "\t\t# This ensures any superfluous information, not affecting the column name, is discarded.\n",
    "\t\trow.sup.extract()\n",
    "\t\n",
    "\t# Joins the remaining content of the cell into a single string separated by spaces.\n",
    "\tcolunm_name = ' '.join(row.contents)\n",
    "\t\n",
    "\t# The string ' ' is the separator placed between each element of the row.contents list when joined into a single string.\n",
    "\t# This means each fragment of the content will be separated by a space in the final result.\n",
    "\t# row.contents = [\"Title\", \"of\", \"the\", \"Column\"]\n",
    "\t# Result = \"Title of the Column\"\n",
    "\t\n",
    "\t# If the resulting name is not numeric, returns the cleaned text (stripping leading and trailing spaces).\n",
    "\tif not colunm_name.strip().isdigit():  # strip removes whitespace at the beginning and end of the string.\n",
    "\t\t# isdigit checks if all characters in the string are digits.\n",
    "\t\treturn colunm_name.strip()\n"
   ]
  },
  {
   "cell_type": "markdown",
   "metadata": {},
   "source": [
    "To keep the lab tasks consistent, you will be asked to scrape the data from a snapshot of the  `List of Falcon 9 and Falcon Heavy launches` Wikipage updated on\n",
    "`9th June 2021`\n"
   ]
  },
  {
   "cell_type": "code",
   "execution_count": 22,
   "metadata": {
    "tags": []
   },
   "outputs": [],
   "source": [
    "static_url = \"https://en.wikipedia.org/w/index.php?title=List_of_Falcon_9_and_Falcon_Heavy_launches&oldid=1027686922\""
   ]
  },
  {
   "cell_type": "markdown",
   "metadata": {},
   "source": [
    "Next, request the HTML page from the above URL and get a `response` object\n"
   ]
  },
  {
   "cell_type": "markdown",
   "metadata": {},
   "source": [
    "### TASK 1: Request the Falcon9 Launch Wiki page from its URL\n"
   ]
  },
  {
   "cell_type": "markdown",
   "metadata": {},
   "source": [
    "First, let's perform an HTTP GET method to request the Falcon9 Launch HTML page, as an HTTP response.\n"
   ]
  },
  {
   "cell_type": "code",
   "execution_count": 23,
   "metadata": {},
   "outputs": [
    {
     "data": {
      "text/plain": [
       "200"
      ]
     },
     "execution_count": 23,
     "metadata": {},
     "output_type": "execute_result"
    }
   ],
   "source": [
    "# use requests.get() method with the provided static_url\n",
    "\n",
    "request_data=requests.get(static_url)\n",
    "request_data.status_code\n",
    "\n"
   ]
  },
  {
   "cell_type": "code",
   "execution_count": 24,
   "metadata": {},
   "outputs": [],
   "source": [
    "# assign the response to a object\n",
    "htm_content=request_data.text\n"
   ]
  },
  {
   "cell_type": "markdown",
   "metadata": {},
   "source": [
    "Create a `BeautifulSoup` object from the HTML `response`\n"
   ]
  },
  {
   "cell_type": "code",
   "execution_count": 25,
   "metadata": {},
   "outputs": [],
   "source": [
    "# Use BeautifulSoup() to create a BeautifulSoup object from a response text content\n",
    "soup=BeautifulSoup(htm_content,'html.parser')\n",
    "#print(soup.prettify())\n"
   ]
  },
  {
   "cell_type": "markdown",
   "metadata": {},
   "source": [
    "Print the page title to verify if the `BeautifulSoup` object was created properly \n"
   ]
  },
  {
   "cell_type": "code",
   "execution_count": 26,
   "metadata": {},
   "outputs": [
    {
     "name": "stdout",
     "output_type": "stream",
     "text": [
      "<title>List of Falcon 9 and Falcon Heavy launches - Wikipedia</title>\n"
     ]
    }
   ],
   "source": [
    "# Use soup.title attribute\n",
    "\n",
    "print(soup.title)\n",
    "\n",
    "\n",
    "\n",
    "\n"
   ]
  },
  {
   "cell_type": "markdown",
   "metadata": {},
   "source": [
    "### TASK 2: Extract all column/variable names from the HTML table header\n"
   ]
  },
  {
   "cell_type": "markdown",
   "metadata": {},
   "source": [
    "Next, we want to collect all relevant column names from the HTML table header\n"
   ]
  },
  {
   "cell_type": "markdown",
   "metadata": {},
   "source": [
    "Let's try to find all tables on the wiki page first. If you need to refresh your memory about `BeautifulSoup`, please check the external reference link towards the end of this lab\n"
   ]
  },
  {
   "cell_type": "code",
   "execution_count": null,
   "metadata": {
    "notebookRunGroups": {
     "groupValue": "2"
    }
   },
   "outputs": [],
   "source": [
    "# Use the find_all function in the BeautifulSoup object, with element type `table`\n",
    "# Assign the result to a list called `html_tables`\n",
    "html_tables=soup.find_all('table')\n",
    "\n",
    "# If you want to print the content of each table, uncomment the following lines:\n",
    "# for tables in html_tables:\n",
    "#     print(tables.prettify())\n",
    "\n",
    "# Verify the result by printing the number of tables found\n",
    "# print(f\"Number of tables found: {len(html_tables)}\") \n"
   ]
  },
  {
   "cell_type": "markdown",
   "metadata": {},
   "source": [
    "Starting from the third table is our target table contains the actual launch records.\n"
   ]
  },
  {
   "cell_type": "code",
   "execution_count": 41,
   "metadata": {},
   "outputs": [],
   "source": [
    "# Let's print the third table and check its content\n",
    "first_launch_table = html_tables[2]\n",
    "#Uncoment to print-> #print(first_launch_table) "
   ]
  },
  {
   "cell_type": "markdown",
   "metadata": {},
   "source": [
    "You should able to see the columns names embedded in the table header elements `<th>` as follows:\n"
   ]
  },
  {
   "cell_type": "markdown",
   "metadata": {},
   "source": [
    "```\n",
    "<tr>\n",
    "<th scope=\"col\">Flight No.\n",
    "</th>\n",
    "<th scope=\"col\">Date and<br/>time (<a href=\"/wiki/Coordinated_Universal_Time\" title=\"Coordinated Universal Time\">UTC</a>)\n",
    "</th>\n",
    "<th scope=\"col\"><a href=\"/wiki/List_of_Falcon_9_first-stage_boosters\" title=\"List of Falcon 9 first-stage boosters\">Version,<br/>Booster</a> <sup class=\"reference\" id=\"cite_ref-booster_11-0\"><a href=\"#cite_note-booster-11\">[b]</a></sup>\n",
    "</th>\n",
    "<th scope=\"col\">Launch site\n",
    "</th>\n",
    "<th scope=\"col\">Payload<sup class=\"reference\" id=\"cite_ref-Dragon_12-0\"><a href=\"#cite_note-Dragon-12\">[c]</a></sup>\n",
    "</th>\n",
    "<th scope=\"col\">Payload mass\n",
    "</th>\n",
    "<th scope=\"col\">Orbit\n",
    "</th>\n",
    "<th scope=\"col\">Customer\n",
    "</th>\n",
    "<th scope=\"col\">Launch<br/>outcome\n",
    "</th>\n",
    "<th scope=\"col\"><a href=\"/wiki/Falcon_9_first-stage_landing_tests\" title=\"Falcon 9 first-stage landing tests\">Booster<br/>landing</a>\n",
    "</th></tr>\n",
    "```\n"
   ]
  },
  {
   "cell_type": "markdown",
   "metadata": {},
   "source": [
    "Next, we just need to iterate through the `<th>` elements and apply the provided `extract_column_from_header()` to extract column name one by one\n"
   ]
  },
  {
   "cell_type": "code",
   "execution_count": 42,
   "metadata": {},
   "outputs": [
    {
     "name": "stdout",
     "output_type": "stream",
     "text": [
      "['Flight No.', 'Date and time ( )', 'Launch site', 'Payload', 'Payload mass', 'Orbit', 'Customer', 'Launch outcome']\n"
     ]
    }
   ],
   "source": [
    "column_names = []\n",
    "\n",
    "# Apply find_all() function with `th` element on first_launch_table\n",
    "extraction = first_launch_table.findAll('th')\n",
    "\n",
    "# Iterate each th element and apply the provided extract_column_from_header() to get a column name\n",
    "for column in extraction:\n",
    "    name = extract_column_from_header(column)\n",
    "    # Append the Non-empty column name (`if name is not None and len(name) > 0`) into a list called column_names\n",
    "    if name is not None and len(name) > 0:\n",
    "        column_names.append(name)\n",
    "\n",
    "print(column_names)"
   ]
  },
  {
   "cell_type": "markdown",
   "metadata": {},
   "source": [
    "Check the extracted column names\n"
   ]
  },
  {
   "cell_type": "code",
   "execution_count": 43,
   "metadata": {},
   "outputs": [
    {
     "name": "stdout",
     "output_type": "stream",
     "text": [
      "['Flight No.', 'Date and time ( )', 'Launch site', 'Payload', 'Payload mass', 'Orbit', 'Customer', 'Launch outcome']\n"
     ]
    }
   ],
   "source": [
    "print(column_names)"
   ]
  },
  {
   "cell_type": "markdown",
   "metadata": {},
   "source": [
    "## TASK 3: Create a data frame by parsing the launch HTML tables\n"
   ]
  },
  {
   "cell_type": "markdown",
   "metadata": {},
   "source": [
    "We will create an empty dictionary with keys from the extracted column names in the previous task. Later, this dictionary will be converted into a Pandas dataframe\n"
   ]
  },
  {
   "cell_type": "code",
   "execution_count": 44,
   "metadata": {},
   "outputs": [],
   "source": [
    "# Se crea un diccionario a partir de un iterable (column_names) utilizando el método fromkeys().\n",
    "# Cada elemento de 'column_names' se convierte en una clave del diccionario, asignándole el valor 'None' por defecto.\n",
    "launch_dict = dict.fromkeys(column_names)\n",
    "\n",
    "# Se elimina una columna que se considera irrelevante.\n",
    "# La clave 'Date and time ( )' se borra del diccionario.\n",
    "del launch_dict['Date and time ( )']\n",
    "\n",
    "#del:\n",
    "# Es una palabra reservada en Python que se utiliza para eliminar referencias a objetos. \n",
    "# Cuando usas del en un elemento de un diccionario, eliminas la entrada correspondiente a la clave especificada.\n",
    "# launch_dict['Date and time ( )']:\n",
    "# Se accede a la entrada del diccionario launch_dict que tiene como clave 'Date and time ( )'.\n",
    "# Efecto combinado:\n",
    "# La instrucción del launch_dict['Date and time ( )'] elimina la clave 'Date and time ( )' \n",
    "# y su correspondiente valor del diccionario launch_dict."
   ]
  },
  {
   "cell_type": "code",
   "execution_count": 45,
   "metadata": {},
   "outputs": [
    {
     "data": {
      "text/plain": [
       "{'Flight No.': None,\n",
       " 'Launch site': None,\n",
       " 'Payload': None,\n",
       " 'Payload mass': None,\n",
       " 'Orbit': None,\n",
       " 'Customer': None,\n",
       " 'Launch outcome': None}"
      ]
     },
     "execution_count": 45,
     "metadata": {},
     "output_type": "execute_result"
    }
   ],
   "source": [
    "launch_dict"
   ]
  },
  {
   "cell_type": "code",
   "execution_count": 46,
   "metadata": {},
   "outputs": [],
   "source": [
    "# Initialize the 'launch_dict' dictionary by assigning an empty list to each key.\n",
    "# This allows storing multiple values for each column, similar to how data is managed in a table.\n",
    "\n",
    "# Initialize the list for the key 'Flight No.' to store flight numbers or identifiers.\n",
    "launch_dict['Flight No.'] = []\n",
    "\n",
    "# Initialize the list for the key 'Launch site' to store information about the launch site.\n",
    "launch_dict['Launch site'] = []\n",
    "\n",
    "# Initialize the list for the key 'Payload' to store information about the payload.\n",
    "launch_dict['Payload'] = []\n",
    "\n",
    "# Initialize the list for the key 'Payload mass' to store payload mass values.\n",
    "launch_dict['Payload mass'] = []\n",
    "\n",
    "# Initialize the list for the key 'Orbit' to store information about the orbit.\n",
    "launch_dict['Orbit'] = []\n",
    "\n",
    "# Initialize the list for the key 'Customer' to store customer or user information.\n",
    "launch_dict['Customer'] = []\n",
    "\n",
    "# Initialize the list for the key 'Launch outcome' to store the launch outcomes.\n",
    "launch_dict['Launch outcome'] = []\n",
    "\n",
    "# Add new columns to the dictionary with the same structure (empty lists) to store additional data.\n",
    "# Initialize the list for the key 'Version Booster' to store information about the booster version.\n",
    "launch_dict['Version Booster'] = []\n",
    "\n",
    "# Initialize the list for the key 'Booster landing' to store information about the booster landing.\n",
    "launch_dict['Booster landing'] = []\n",
    "\n",
    "# Initialize the list for the key 'Date' to store the launch date.\n",
    "launch_dict['Date'] = []\n",
    "\n",
    "# Initialize the list for the key 'Time' to store the launch time.\n",
    "launch_dict['Time'] = []\n"
   ]
  },
  {
   "cell_type": "markdown",
   "metadata": {},
   "source": [
    "Next, we just need to fill up the `launch_dict` with launch records extracted from table rows.\n"
   ]
  },
  {
   "cell_type": "markdown",
   "metadata": {},
   "source": [
    "Usually, HTML tables in Wiki pages are likely to contain unexpected annotations and other types of noises, such as reference links `B0004.1[8]`, missing values `N/A [e]`, inconsistent formatting, etc.\n"
   ]
  },
  {
   "cell_type": "markdown",
   "metadata": {},
   "source": [
    "To simplify the parsing process, we have provided an incomplete code snippet below to help you to fill up the `launch_dict`. Please complete the following code snippet with TODOs or you can choose to write your own logic to parse all launch tables:\n"
   ]
  },
  {
   "cell_type": "code",
   "execution_count": 47,
   "metadata": {},
   "outputs": [],
   "source": [
    "# -*- coding: utf-8 -*- # Asegura que los caracteres especiales se manejen correctamente\n",
    "\n",
    "# --- Inicialización ---\n",
    "\n",
    "# Contador para llevar la cuenta de las filas de datos de lanzamientos procesadas\n",
    "extracted_row = 0\n",
    "\n",
    "# --- Procesamiento de Tablas ---\n",
    "\n",
    "# Itera sobre cada tabla encontrada con la clase específica.\n",
    "# Se asume que cada tabla representa lanzamientos de un período (ej. un año).\n",
    "# 'enumerate' proporciona un índice (table_number) para cada tabla.\n",
    "for table_number, table in enumerate(soup.find_all('table', \"wikitable plainrowheaders collapsible\")):\n",
    "\n",
    "    # --- Procesamiento de Filas ---\n",
    "\n",
    "    # Itera sobre cada fila (etiqueta <tr>) dentro de la tabla actual.\n",
    "    for rows in table.find_all(\"tr\"):\n",
    "\n",
    "        # --- Identificación de Filas de Datos ---\n",
    "\n",
    "        # Variable para marcar si la fila actual contiene datos válidos de un lanzamiento.\n",
    "        is_launch_data_row = False # Renombrado 'flag' para mayor claridad\n",
    "\n",
    "        # Verifica si la fila contiene una celda de encabezado de fila (<th>).\n",
    "        # En la estructura típica de estas tablas de Wikipedia, las filas con datos\n",
    "        # de lanzamiento suelen tener el número de vuelo dentro de un <th>.\n",
    "        if rows.th:\n",
    "            # Asegura que la celda <th> no esté vacía y contenga texto.\n",
    "            if rows.th.string:\n",
    "                # Extrae el texto del <th> (potencial número de vuelo) y elimina espacios en blanco al inicio/final.\n",
    "                flight_number_text = rows.th.string.strip()\n",
    "\n",
    "                # Comprueba si el texto extraído es puramente numérico.\n",
    "                # Esto ayuda a distinguir las filas de datos de lanzamiento de otras filas (encabezados de tabla, notas).\n",
    "                if flight_number_text.isdigit():\n",
    "                    flight_number = flight_number_text # Guarda el número de vuelo si es válido\n",
    "                    is_launch_data_row = True # Marca esta fila como una fila de datos válida\n",
    "\n",
    "        # Nota: Si no se encuentra un <th>, o si el <th> está vacío, o si su contenido no es numérico,\n",
    "        # 'is_launch_data_row' permanecerá False, y la fila será ignorada en el siguiente bloque.\n",
    "\n",
    "        # --- Extracción de Datos (Solo para Filas Válidas) ---\n",
    "\n",
    "        # Solo si 'is_launch_data_row' es True (la fila contiene datos de un lanzamiento), se procede a extraer la información.\n",
    "        if is_launch_data_row:\n",
    "            # Extrae todas las celdas de datos (<td>) de la fila actual.\n",
    "            # Estas celdas contienen los detalles del lanzamiento.\n",
    "            row_data_cells = rows.find_all('td') # Renombrado 'row' para evitar confusión con 'rows' del bucle externo\n",
    "\n",
    "            # Incrementa el contador de filas de lanzamientos procesadas con éxito.\n",
    "            extracted_row += 1\n",
    "\n",
    "            # --- Poblado del Diccionario 'launch_dict' ---\n",
    "            # A continuación, se extrae cada dato específico de las celdas (row_data_cells)\n",
    "            # y se añade a la lista correspondiente dentro del diccionario 'launch_dict'.\n",
    "\n",
    "            # 1. Número de vuelo\n",
    "            # TODO: Agrega el 'flight_number' (ya validado) al diccionario.\n",
    "            launch_dict['Flight No.'].append(flight_number)\n",
    "\n",
    "            # 2. Fecha y hora\n",
    "            # Se asume que la celda 0 (row_data_cells[0]) contiene la fecha y hora.\n",
    "            # 'date_time' es una función auxiliar (no mostrada aquí) para parsear estos datos.\n",
    "            datatimelist = date_time(row_data_cells[0]) # ['DD Month YYYY,', 'HH:MM']\n",
    "\n",
    "            # 2a. Fecha\n",
    "            # Extrae la fecha, eliminando la coma al final si existe.\n",
    "            date = datatimelist[0].strip(',')\n",
    "            # TODO: Agrega la 'date' al diccionario.\n",
    "            launch_dict['Date'].append(date)\n",
    "\n",
    "            # 2b. Hora\n",
    "            # Extrae la hora.\n",
    "            time = datatimelist[1]\n",
    "            # TODO: Agrega la 'time' al diccionario.\n",
    "            launch_dict['Time'].append(time)\n",
    "\n",
    "            # 3. Versión del booster (cohete impulsor)\n",
    "            # Se asume que la celda 1 (row_data_cells[1]) contiene la versión del booster.\n",
    "            # 'booster_version' es una función auxiliar para extraer/limpiar este dato.\n",
    "            bv = booster_version(row_data_cells[1])\n",
    "            # Fallback: Si la función 'booster_version' no retorna nada (ej. formato inesperado),\n",
    "            # intenta obtener el texto directamente del primer enlace (<a>) en la celda.\n",
    "            if not bv and row_data_cells[1].a:\n",
    "                bv = row_data_cells[1].a.string.strip() # Añadido strip() para limpiar\n",
    "            # TODO: Agrega la 'bv' (versión del booster) al diccionario.\n",
    "            launch_dict['Version Booster'].append(bv)\n",
    "\n",
    "            # 4. Sitio de lanzamiento\n",
    "            # Se asume que la celda 2 (row_data_cells[2]) contiene el sitio, usualmente en un enlace <a>.\n",
    "            launch_site = None # Inicializa por si no se encuentra\n",
    "            if row_data_cells[2].a:\n",
    "                launch_site = row_data_cells[2].a.string.strip() # Añadido strip()\n",
    "            # TODO: Agrega el 'launch_site' al diccionario.\n",
    "            launch_dict['Launch site'].append(launch_site)\n",
    "\n",
    "            # 5. Carga útil (Payload)\n",
    "            # Se asume que la celda 3 (row_data_cells[3]) contiene el nombre/tipo de payload, usualmente en un enlace <a>.\n",
    "            payload = None # Inicializa\n",
    "            if row_data_cells[3].a:\n",
    "                payload = row_data_cells[3].a.string.strip() # Añadido strip()\n",
    "            # TODO: Agrega el 'payload' al diccionario.\n",
    "            launch_dict['Payload'].append(payload)\n",
    "\n",
    "            # 6. Masa de la carga útil\n",
    "            # Se asume que la celda 4 (row_data_cells[4]) contiene la masa.\n",
    "            # 'get_mass' es una función auxiliar para extraer y limpiar este valor numérico.\n",
    "            payload_mass = get_mass(row_data_cells[4])\n",
    "            # TODO: Agrega la 'payload_mass' al diccionario.\n",
    "            launch_dict['Payload mass'].append(payload_mass)\n",
    "\n",
    "            # 7. Órbita\n",
    "            # Se asume que la celda 5 (row_data_cells[5]) contiene el tipo de órbita, usualmente en un enlace <a>.\n",
    "            orbit = None # Inicializa\n",
    "            if row_data_cells[5].a:\n",
    "                orbit = row_data_cells[5].a.string.strip() # Añadido strip()\n",
    "            # TODO: Agrega la 'orbit' al diccionario.\n",
    "            launch_dict['Orbit'].append(orbit)\n",
    "\n",
    "            # 8. Cliente\n",
    "            # Se asume que la celda 6 (row_data_cells[6]) contiene el cliente, usualmente en un enlace <a>.\n",
    "            customer = None # Inicializa\n",
    "            # Verifica que exista un enlace <a> y que contenga texto antes de intentar extraerlo.\n",
    "            if row_data_cells[6].a and row_data_cells[6].a.string:\n",
    "                customer = row_data_cells[6].a.string.strip()\n",
    "            # TODO: Agrega el 'customer' al diccionario (será None si no se encontró).\n",
    "            launch_dict['Customer'].append(customer)\n",
    "\n",
    "            # 9. Resultado del lanzamiento\n",
    "            # Se asume que la celda 7 (row_data_cells[7]) contiene el resultado.\n",
    "            # Usa 'list(row_data_cells[7].strings)[0]' para obtener el texto principal,\n",
    "            # ignorando posibles textos adicionales (ej. en superíndices <sup/>).\n",
    "            launch_outcome = None # Inicializa\n",
    "            if row_data_cells[7].strings: # Verifica que haya texto\n",
    "                launch_outcome = list(row_data_cells[7].strings)[0].strip() # Añadido strip()\n",
    "            # TODO: Agrega el 'launch_outcome' al diccionario.\n",
    "            launch_dict['Launch outcome'].append(launch_outcome)\n",
    "\n",
    "            # 10. Resultado del aterrizaje del booster\n",
    "            # Se asume que la celda 8 (row_data_cells[8]) contiene el estado del aterrizaje.\n",
    "            # 'landing_status' es una función auxiliar para interpretar y estandarizar este estado.\n",
    "            booster_landing = landing_status(row_data_cells[8])\n",
    "            # TODO: Agrega el 'booster_landing' al diccionario.\n",
    "            launch_dict['Booster landing'].append(booster_landing)\n",
    "\n",
    "# --- Fin del Procesamiento ---\n",
    "# Al finalizar los bucles, el diccionario 'launch_dict' contendrá listas con los datos\n",
    "# de todos los lanzamientos extraídos de las tablas procesadas.\n",
    "# La variable 'extracted_row' indicará cuántas filas de lanzamiento se procesaron."
   ]
  },
  {
   "cell_type": "markdown",
   "metadata": {},
   "source": [
    "After you have fill in the parsed launch record values into `launch_dict`, you can create a dataframe from it.\n"
   ]
  },
  {
   "cell_type": "code",
   "execution_count": 48,
   "metadata": {},
   "outputs": [],
   "source": [
    "df= pd.DataFrame({ key:pd.Series(value) for key, value in launch_dict.items() })"
   ]
  },
  {
   "cell_type": "code",
   "execution_count": 49,
   "metadata": {},
   "outputs": [
    {
     "data": {
      "text/html": [
       "<div>\n",
       "<style scoped>\n",
       "    .dataframe tbody tr th:only-of-type {\n",
       "        vertical-align: middle;\n",
       "    }\n",
       "\n",
       "    .dataframe tbody tr th {\n",
       "        vertical-align: top;\n",
       "    }\n",
       "\n",
       "    .dataframe thead th {\n",
       "        text-align: right;\n",
       "    }\n",
       "</style>\n",
       "<table border=\"1\" class=\"dataframe\">\n",
       "  <thead>\n",
       "    <tr style=\"text-align: right;\">\n",
       "      <th></th>\n",
       "      <th>Flight No.</th>\n",
       "      <th>Launch site</th>\n",
       "      <th>Payload</th>\n",
       "      <th>Payload mass</th>\n",
       "      <th>Orbit</th>\n",
       "      <th>Customer</th>\n",
       "      <th>Launch outcome</th>\n",
       "      <th>Version Booster</th>\n",
       "      <th>Booster landing</th>\n",
       "      <th>Date</th>\n",
       "      <th>Time</th>\n",
       "    </tr>\n",
       "  </thead>\n",
       "  <tbody>\n",
       "    <tr>\n",
       "      <th>0</th>\n",
       "      <td>1</td>\n",
       "      <td>CCAFS</td>\n",
       "      <td>Dragon Spacecraft Qualification Unit</td>\n",
       "      <td>0</td>\n",
       "      <td>LEO</td>\n",
       "      <td>SpaceX</td>\n",
       "      <td>Success</td>\n",
       "      <td>F9 v1.07B0003.18</td>\n",
       "      <td>Failure</td>\n",
       "      <td>4 June 2010</td>\n",
       "      <td>18:45</td>\n",
       "    </tr>\n",
       "    <tr>\n",
       "      <th>1</th>\n",
       "      <td>2</td>\n",
       "      <td>CCAFS</td>\n",
       "      <td>Dragon</td>\n",
       "      <td>0</td>\n",
       "      <td>LEO</td>\n",
       "      <td>NASA</td>\n",
       "      <td>Success</td>\n",
       "      <td>F9 v1.07B0004.18</td>\n",
       "      <td>Failure</td>\n",
       "      <td>8 December 2010</td>\n",
       "      <td>15:43</td>\n",
       "    </tr>\n",
       "    <tr>\n",
       "      <th>2</th>\n",
       "      <td>3</td>\n",
       "      <td>CCAFS</td>\n",
       "      <td>Dragon</td>\n",
       "      <td>525 kg</td>\n",
       "      <td>LEO</td>\n",
       "      <td>NASA</td>\n",
       "      <td>Success</td>\n",
       "      <td>F9 v1.07B0005.18</td>\n",
       "      <td>No attempt\\n</td>\n",
       "      <td>22 May 2012</td>\n",
       "      <td>07:44</td>\n",
       "    </tr>\n",
       "    <tr>\n",
       "      <th>3</th>\n",
       "      <td>4</td>\n",
       "      <td>CCAFS</td>\n",
       "      <td>SpaceX CRS-1</td>\n",
       "      <td>4,700 kg</td>\n",
       "      <td>LEO</td>\n",
       "      <td>NASA</td>\n",
       "      <td>Success</td>\n",
       "      <td>F9 v1.07B0006.18</td>\n",
       "      <td>No attempt</td>\n",
       "      <td>8 October 2012</td>\n",
       "      <td>00:35</td>\n",
       "    </tr>\n",
       "    <tr>\n",
       "      <th>4</th>\n",
       "      <td>5</td>\n",
       "      <td>CCAFS</td>\n",
       "      <td>SpaceX CRS-2</td>\n",
       "      <td>4,877 kg</td>\n",
       "      <td>LEO</td>\n",
       "      <td>NASA</td>\n",
       "      <td>Success</td>\n",
       "      <td>F9 v1.07B0007.18</td>\n",
       "      <td>No attempt\\n</td>\n",
       "      <td>1 March 2013</td>\n",
       "      <td>15:10</td>\n",
       "    </tr>\n",
       "  </tbody>\n",
       "</table>\n",
       "</div>"
      ],
      "text/plain": [
       "  Flight No. Launch site                               Payload Payload mass  \\\n",
       "0          1       CCAFS  Dragon Spacecraft Qualification Unit            0   \n",
       "1          2       CCAFS                                Dragon            0   \n",
       "2          3       CCAFS                                Dragon       525 kg   \n",
       "3          4       CCAFS                          SpaceX CRS-1     4,700 kg   \n",
       "4          5       CCAFS                          SpaceX CRS-2     4,877 kg   \n",
       "\n",
       "  Orbit Customer Launch outcome   Version Booster Booster landing  \\\n",
       "0   LEO   SpaceX        Success  F9 v1.07B0003.18         Failure   \n",
       "1   LEO     NASA        Success  F9 v1.07B0004.18         Failure   \n",
       "2   LEO     NASA        Success  F9 v1.07B0005.18    No attempt\\n   \n",
       "3   LEO     NASA        Success  F9 v1.07B0006.18      No attempt   \n",
       "4   LEO     NASA        Success  F9 v1.07B0007.18    No attempt\\n   \n",
       "\n",
       "              Date   Time  \n",
       "0      4 June 2010  18:45  \n",
       "1  8 December 2010  15:43  \n",
       "2      22 May 2012  07:44  \n",
       "3   8 October 2012  00:35  \n",
       "4     1 March 2013  15:10  "
      ]
     },
     "execution_count": 49,
     "metadata": {},
     "output_type": "execute_result"
    }
   ],
   "source": [
    "df.head()"
   ]
  },
  {
   "cell_type": "markdown",
   "metadata": {},
   "source": [
    "We can now export it to a <b>CSV</b> for the next section, but to make the answers consistent and in case you have difficulties finishing this lab. \n",
    "\n",
    "Following labs will be using a provided dataset to make each lab independent. \n"
   ]
  },
  {
   "cell_type": "markdown",
   "metadata": {},
   "source": [
    "<code>df.to_csv('spacex_web_scraped.csv', index=False)</code>\n"
   ]
  },
  {
   "cell_type": "code",
   "execution_count": 50,
   "metadata": {},
   "outputs": [],
   "source": [
    "#df.to_csv('spacex_web_scraped.csv', index=False) #Uncoment to savefile"
   ]
  },
  {
   "cell_type": "markdown",
   "metadata": {},
   "source": [
    "## Authors\n"
   ]
  },
  {
   "cell_type": "markdown",
   "metadata": {},
   "source": [
    "<a href=\"https://www.linkedin.com/in/yan-luo-96288783/\">Yan Luo</a>\n"
   ]
  },
  {
   "cell_type": "markdown",
   "metadata": {},
   "source": [
    "<a href=\"https://www.linkedin.com/in/nayefaboutayoun/\">Nayef Abou Tayoun</a>\n"
   ]
  },
  {
   "cell_type": "markdown",
   "metadata": {},
   "source": [
    "<!--\n",
    "## Change Log\n",
    "-->\n"
   ]
  },
  {
   "cell_type": "markdown",
   "metadata": {},
   "source": [
    "<!--\n",
    "| Date (YYYY-MM-DD) | Version | Changed By | Change Description      |\n",
    "| ----------------- | ------- | ---------- | ----------------------- |\n",
    "| 2021-06-09        | 1.0     | Yan Luo    | Tasks updates           |\n",
    "| 2020-11-10        | 1.0     | Nayef      | Created the initial version |\n",
    "-->\n"
   ]
  },
  {
   "cell_type": "markdown",
   "metadata": {},
   "source": [
    "Copyright © 2021 IBM Corporation. All rights reserved.\n"
   ]
  }
 ],
 "metadata": {
  "kernelspec": {
   "display_name": "base",
   "language": "python",
   "name": "python3"
  },
  "language_info": {
   "codemirror_mode": {
    "name": "ipython",
    "version": 3
   },
   "file_extension": ".py",
   "mimetype": "text/x-python",
   "name": "python",
   "nbconvert_exporter": "python",
   "pygments_lexer": "ipython3",
   "version": "3.11.7"
  },
  "prev_pub_hash": "64f1b0aac408997185c47caba18730e0028b75e7934a0e5bf0ae73c5cb7ba677"
 },
 "nbformat": 4,
 "nbformat_minor": 4
}
