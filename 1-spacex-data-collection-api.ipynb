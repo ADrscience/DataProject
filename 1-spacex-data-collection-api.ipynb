{
 "cells": [
  {
   "cell_type": "markdown",
   "metadata": {},
   "source": [
    "### Final Project Part 1\n",
    "\n",
    "In this capstone, we will predict if the Falcon 9 first stage will land successfully. SpaceX advertises Falcon 9 rocket launches on its website with a cost of 62 million dollars; other providers cost upward of 165 million dollars each, much of the savings is because SpaceX can reuse the first stage. Therefore if we can determine if the first stage will land, we can determine the cost of a launch. This information can be used if an alternate company wants to bid against SpaceX for a rocket launch. In this lab, you will collect and make sure the data is in the correct format from an API. The following is an example of a successful and launch."
   ]
  },
  {
   "cell_type": "markdown",
   "metadata": {},
   "source": [
    "Objectives\n",
    "+In this lab, you will make a get request to the SpaceX API. You will also do some basic data wrangling and formating.\n",
    "+ Request to the SpaceX API\n",
    "+ Clean the requested data"
   ]
  },
  {
   "cell_type": "markdown",
   "metadata": {},
   "source": [
    "## Import Libraries and Define Auxiliary Functions\n"
   ]
  },
  {
   "cell_type": "code",
   "execution_count": 1,
   "metadata": {},
   "outputs": [],
   "source": [
    "from mis_funciones import check_valores_nulos,calcular_media,remplazar_por_media\n",
    "import pandas as pd  # Import the pandas library for data manipulation and analysis\n",
    "import numpy as np  # Import the numpy library for numerical operations\n",
    "import requests  # Import the requests library to make HTTP requests\n",
    "import datetime  # Import the datetime module to work with date and time\n"
   ]
  },
  {
   "cell_type": "code",
   "execution_count": 2,
   "metadata": {},
   "outputs": [],
   "source": [
    "# Configure pandas to not truncate columns when printing\n",
    "pd.set_option('display.max_columns', None)  # Show all columns\n",
    "pd.set_option('display.expand_frame_repr', False)  # Prevent the DataFrame from expanding into multiple lines\n",
    "pd.set_option('display.max_rows', None)  # Show all rows\n",
    "pd.set_option('display.max_columns', None)  # Show all columns\n",
    "pd.set_option('display.width', None)  # Automatically adjust display width\n",
    "pd.set_option('display.max_colwidth', None)  # Maximum column width without truncation\n",
    "\n",
    "# Configure pandas to not display scientific notation\n",
    "pd.set_option('display.float_format', '{:.2f}'.format)  # Display numbers with two decimal places"
   ]
  },
  {
   "cell_type": "markdown",
   "metadata": {},
   "source": [
    "Below we will define a series of helper functions that will help us use the API to extract information using identification numbers in the launch data.\n",
    "\n",
    "+ From the <code>rocket</code> column we would like to learn the booster name."
   ]
  },
  {
   "cell_type": "code",
   "execution_count": 3,
   "metadata": {},
   "outputs": [],
   "source": [
    "# The following function uses the 'rocket' column of a dataset to obtain information\n",
    "# from the SpaceX API about each rocket. To do this, it iterates over each rocket identifier,\n",
    "# constructs a specific URL by concatenating the identifier with the base URL, sends an HTTP GET request,\n",
    "# and finally extracts the rocket name from the obtained JSON to store it in the BoosterVersion list.\n",
    "def getBoosterVersion(data):\n",
    "\t# Iterate over each rocket identifier in the 'rocket' column of the dataset.\n",
    "\tfor x in data['rocket']:\n",
    "\t\t# Check that the identifier 'x' has a valid value (i.e., it is not None or empty).\n",
    "\t\tif x:\n",
    "\t\t\t# URL construction:\n",
    "\t\t\t# - A fixed base URL is used: \"https://api.spacexdata.com/v4/rockets/\"\n",
    "\t\t\t# - The identifier 'x' is converted to a string with str(x) to ensure it is text.\n",
    "\t\t\t# - The base URL is concatenated with the converted identifier to form a complete and specific URL.\n",
    "\t\t\t#   For example, if x is \"5e9d0d95eda69955f709d1eb\", the resulting URL will be:\n",
    "\t\t\t#   \"https://api.spacexdata.com/v4/rockets/5e9d0d95eda69955f709d1eb\"\n",
    "\t\t\t# This URL is used to request data for the rocket corresponding to that identifier.\n",
    "\t\t\tresponse = requests.get(\"https://api.spacexdata.com/v4/rockets/\" + str(x)).json()\n",
    "\t\t\t\n",
    "\t\t\t# Response processing:\n",
    "\t\t\t# - The API returns a response in JSON format containing various rocket data.\n",
    "\t\t\t# - The .json() method converts that response into a Python dictionary.\n",
    "\t\t\t# - The value associated with the 'name' key is extracted, which contains the rocket name (e.g., \"Falcon 9\").\n",
    "\t\t\t# - This name is added to the global BoosterVersion list.\n",
    "\t\t\tBoosterVersion.append(response['name'])\n"
   ]
  },
  {
   "cell_type": "markdown",
   "metadata": {},
   "source": [
    "From the launchpad we would like to know the name of the launch site being used, the logitude, and the latitude."
   ]
  },
  {
   "cell_type": "code",
   "execution_count": 4,
   "metadata": {},
   "outputs": [],
   "source": [
    "# This function receives a dataset (data) and uses the 'launchpad' column\n",
    "# which contains unique identifiers for launchpads.\n",
    "# For each identifier, it constructs a specific URL for the SpaceX API,\n",
    "# sends a GET request to retrieve the corresponding data, and then extracts:\n",
    "# - The longitude\n",
    "# - The latitude\n",
    "# - The name of the launch site\n",
    "# Finally, it adds this information to three separate lists: Longitude, Latitude, and LaunchSite.\n",
    "\n",
    "def getLaunchSite(data):\n",
    "\t# Iterate over each launchpad identifier in the 'launchpad' column\n",
    "\tfor x in data['launchpad']:\n",
    "\t\t# Check that the identifier is not empty or null (i.e., it has a valid value)\n",
    "\t\tif x:\n",
    "\t\t\t# Dynamic URL construction:\n",
    "\t\t\t# - Start with the base URL for the SpaceX API for launchpads:\n",
    "\t\t\t#   \"https://api.spacexdata.com/v4/launchpads/\"\n",
    "\t\t\t# - Convert the identifier 'x' to text (in case it is a number or another type).\n",
    "\t\t\t# - Concatenate it with the base URL, forming a complete and unique URL for each launchpad.\n",
    "\t\t\t#   For example, if x = \"5e9e4502f5090995de566f86\", the final URL will be:\n",
    "\t\t\t#   \"https://api.spacexdata.com/v4/launchpads/5e9e4502f5090995de566f86\"\n",
    "\t\t\tresponse = requests.get(\"https://api.spacexdata.com/v4/launchpads/\" + str(x)).json()\n",
    "\n",
    "\t\t\t# Process the response:\n",
    "\t\t\t# - The API response is converted into a Python dictionary using .json().\n",
    "\t\t\t# - The dictionary contains data about the launchpad.\n",
    "\t\t\t# - Extract the following specific fields:\n",
    "\t\t\t#   - 'longitude': geographical longitude of the site\n",
    "\t\t\t#   - 'latitude': geographical latitude of the site\n",
    "\t\t\t#   - 'name': name of the launch site (e.g., \"Cape Canaveral\", \"VAFB SLC 4E\")\n",
    "\t\t\t# - Add each field to its corresponding list.\n",
    "\t\t\tLongitude.append(response['longitude'])  # Store the longitude of the site\n",
    "\t\t\tLatitude.append(response['latitude'])    # Store the latitude of the site\n",
    "\t\t\tLaunchSite.append(response['name'])      # Store the name of the site\n"
   ]
  },
  {
   "cell_type": "markdown",
   "metadata": {},
   "source": [
    "#### From the payload we would like to learn the mass of the payload and the orbit that it is going to."
   ]
  },
  {
   "cell_type": "code",
   "execution_count": 5,
   "metadata": {},
   "outputs": [],
   "source": [
    "# This function takes a dataset (data) as input, specifically using the 'payloads' column,\n",
    "# which contains unique identifiers for payloads associated with each launch.\n",
    "# For each identifier in the column:\n",
    "# 1. Dynamically constructs a URL to access the SpaceX API.\n",
    "# 2. Makes an HTTP GET request to retrieve the payload details.\n",
    "# 3. Extracts two key pieces of data: the payload mass in kilograms and the target orbit.\n",
    "# 4. Adds this information to the PayloadMass and Orbit lists, respectively.\n",
    "\n",
    "def getPayloadData(data):\n",
    "\t# Iterate over each payload identifier in the 'payloads' column\n",
    "\tfor load in data['payloads']:\n",
    "\t\t# Verify that the identifier exists and is not empty (i.e., it has a valid value)\n",
    "\t\tif load:\n",
    "\t\t\t# Dynamic URL construction:\n",
    "\t\t\t# - Start with the base URL of the SpaceX API for accessing payloads:\n",
    "\t\t\t#   \"https://api.spacexdata.com/v4/payloads/\"\n",
    "\t\t\t# - Then concatenate the unique identifier (load) at the end of this URL.\n",
    "\t\t\t#   This allows us to form a custom URL pointing to the information for that specific payload.\n",
    "\t\t\t#   For example, if load = \"5eb0e4b5b6c3bb0006eeb1e1\", the final URL will be:\n",
    "\t\t\t#   \"https://api.spacexdata.com/v4/payloads/5eb0e4b5b6c3bb0006eeb1e1\"\n",
    "\t\t\tresponse = requests.get(\"https://api.spacexdata.com/v4/payloads/\" + load).json()\n",
    "\n",
    "\t\t\t# JSON response processing:\n",
    "\t\t\t# - The .json() function converts the response into a Python dictionary.\n",
    "\t\t\t# - From this dictionary, we extract:\n",
    "\t\t\t#     - 'mass_kg': which represents the total mass of the payload in kilograms.\n",
    "\t\t\t#     - 'orbit': which represents the type of orbit the payload was sent to (e.g., \"LEO\", \"GTO\", etc.).\n",
    "\t\t\t# - Then we save this data into their respective lists.\n",
    "\t\t\tPayloadMass.append(response['mass_kg'])  # Add the payload mass (in kg)\n",
    "\t\t\tOrbit.append(response['orbit'])         # Add the type of orbit the payload was sent to\n"
   ]
  },
  {
   "cell_type": "markdown",
   "metadata": {},
   "source": [
    "From the cores (main boosters), we would like to learn the outcome of the landing, the type of landing, the number of flights made with that core, whether gridfins (aerodynamic control surfaces) were used, whether the core was reused (used in more than one launch), whether landing legs were used, the landing pad used, the block of the core (a number used to distinguish different versions of cores), the number of times this specific core has been reused, and the serial number of the core (unique identifier of the booster)."
   ]
  },
  {
   "cell_type": "code",
   "execution_count": 6,
   "metadata": {},
   "outputs": [],
   "source": [
    "# ----------------------------------------------------------------------------------\n",
    "# Function: getCoreData\n",
    "# ----------------------------------------------------------------------------------\n",
    "# This function receives a DataFrame (called 'data') and loops through the 'cores' column.\n",
    "# Each entry in that column is a dictionary with information about the core (rocket booster)\n",
    "# used in a SpaceX launch.\n",
    "# The function extracts different data points from each core and stores them in\n",
    "# lists that are defined outside this function (such as Block, ReusedCount, etc.).\n",
    "# ----------------------------------------------------------------------------------\n",
    "\n",
    "def getCoreData(data):\n",
    "    \n",
    "    # Loop through each row (each dictionary) in the 'cores' column\n",
    "    for core in data['cores']:\n",
    "        \n",
    "        # If the value for 'core' ID is NOT None, it means it's a valid core\n",
    "        if core['core'] != None:\n",
    "            \n",
    "            # Make a request to the SpaceX API using the core ID\n",
    "            # The response is a dictionary with detailed information about the core\n",
    "            response = requests.get(\"https://api.spacexdata.com/v4/cores/\" + core['core']).json()\n",
    "            \n",
    "            # Extract the 'block' number from the response and save it in the Block list\n",
    "            Block.append(response['block'])\n",
    "            \n",
    "            # Save how many times the core was reused in the ReusedCount list\n",
    "            ReusedCount.append(response['reuse_count'])\n",
    "            \n",
    "            # Save the serial number of the core in the Serial list\n",
    "            Serial.append(response['serial'])\n",
    "        \n",
    "        else:\n",
    "            # If the core ID is None (no data), store None in the corresponding lists\n",
    "            Block.append(None)\n",
    "            ReusedCount.append(None)\n",
    "            Serial.append(None)\n",
    "        \n",
    "        # Combine landing success ('landing_success') and landing type ('landing_type')\n",
    "        # and store it as a single string in the Outcome list\n",
    "        # Example: \"True RTLS\", \"False Ocean\", etc.\n",
    "        Outcome.append(str(core['landing_success']) + ' ' + str(core['landing_type']))\n",
    "        \n",
    "        # Save the number of flights the core has made (from the current data) to the Flights list\n",
    "        Flights.append(core['flight'])\n",
    "        \n",
    "        # Save whether the core used grid fins to the GridFins list\n",
    "        GridFins.append(core['gridfins'])\n",
    "        \n",
    "        # Save whether the core was reused to the Reused list\n",
    "        Reused.append(core['reused'])\n",
    "        \n",
    "        # Save whether the core had landing legs to the Legs list\n",
    "        Legs.append(core['legs'])\n",
    "        \n",
    "        # Save the ID of the landing pad to the LandingPad list\n",
    "        LandingPad.append(core['landpad'])\n",
    "\n"
   ]
  },
  {
   "cell_type": "markdown",
   "metadata": {},
   "source": [
    "Now let's start requesting rocket launch data from SpaceX API with the following URL:"
   ]
  },
  {
   "cell_type": "code",
   "execution_count": 7,
   "metadata": {},
   "outputs": [],
   "source": [
    "spacex_url=\"https://api.spacexdata.com/v4/launches/past\""
   ]
  },
  {
   "cell_type": "code",
   "execution_count": 8,
   "metadata": {},
   "outputs": [],
   "source": [
    "response = requests.get(spacex_url)"
   ]
  },
  {
   "cell_type": "code",
   "execution_count": 27,
   "metadata": {},
   "outputs": [
    {
     "name": "stdout",
     "output_type": "stream",
     "text": [
      "b'[{\"fairings\": {\"reused\": false, \"recovery_attempt\": false, \"recovered\": false, \"ships\": []}, \"links\"'\n"
     ]
    }
   ],
   "source": [
    "print(response.content[:100])"
   ]
  },
  {
   "cell_type": "markdown",
   "metadata": {},
   "source": [
    "### Task 1: Request and parse the SpaceX launch data using the GET request"
   ]
  },
  {
   "cell_type": "markdown",
   "metadata": {},
   "source": [
    "to make the requested JSON results more consistent, we will use the following static response object for this project:"
   ]
  },
  {
   "cell_type": "code",
   "execution_count": 10,
   "metadata": {},
   "outputs": [
    {
     "data": {
      "text/plain": [
       "200"
      ]
     },
     "execution_count": 10,
     "metadata": {},
     "output_type": "execute_result"
    }
   ],
   "source": [
    "static_json_url='https://cf-courses-data.s3.us.cloud-object-storage.appdomain.cloud/IBM-DS0321EN-SkillsNetwork/datasets/API_call_spacex_api.json'\n",
    "\n",
    "#We should see that the request was successfull with the 200 status response code\n",
    "response=requests.get(static_json_url)\n",
    "response.status_code\n",
    "\n",
    "\n"
   ]
  },
  {
   "cell_type": "markdown",
   "metadata": {},
   "source": [
    "#### Now we decode the response content as a Json using <code>.json()</code> and turn it into a Pandas dataframe using <code>.json_normalize()</code>"
   ]
  },
  {
   "cell_type": "code",
   "execution_count": 11,
   "metadata": {},
   "outputs": [
    {
     "data": {
      "text/html": [
       "<div>\n",
       "<style scoped>\n",
       "    .dataframe tbody tr th:only-of-type {\n",
       "        vertical-align: middle;\n",
       "    }\n",
       "\n",
       "    .dataframe tbody tr th {\n",
       "        vertical-align: top;\n",
       "    }\n",
       "\n",
       "    .dataframe thead th {\n",
       "        text-align: right;\n",
       "    }\n",
       "</style>\n",
       "<table border=\"1\" class=\"dataframe\">\n",
       "  <thead>\n",
       "    <tr style=\"text-align: right;\">\n",
       "      <th></th>\n",
       "      <th>static_fire_date_utc</th>\n",
       "      <th>static_fire_date_unix</th>\n",
       "      <th>tbd</th>\n",
       "      <th>net</th>\n",
       "      <th>window</th>\n",
       "      <th>rocket</th>\n",
       "      <th>success</th>\n",
       "      <th>details</th>\n",
       "      <th>crew</th>\n",
       "      <th>ships</th>\n",
       "      <th>capsules</th>\n",
       "      <th>payloads</th>\n",
       "      <th>launchpad</th>\n",
       "      <th>auto_update</th>\n",
       "      <th>failures</th>\n",
       "      <th>flight_number</th>\n",
       "      <th>name</th>\n",
       "      <th>date_utc</th>\n",
       "      <th>date_unix</th>\n",
       "      <th>date_local</th>\n",
       "      <th>date_precision</th>\n",
       "      <th>upcoming</th>\n",
       "      <th>cores</th>\n",
       "      <th>id</th>\n",
       "      <th>fairings.reused</th>\n",
       "      <th>fairings.recovery_attempt</th>\n",
       "      <th>fairings.recovered</th>\n",
       "      <th>fairings.ships</th>\n",
       "      <th>links.patch.small</th>\n",
       "      <th>links.patch.large</th>\n",
       "      <th>links.reddit.campaign</th>\n",
       "      <th>links.reddit.launch</th>\n",
       "      <th>links.reddit.media</th>\n",
       "      <th>links.reddit.recovery</th>\n",
       "      <th>links.flickr.small</th>\n",
       "      <th>links.flickr.original</th>\n",
       "      <th>links.presskit</th>\n",
       "      <th>links.webcast</th>\n",
       "      <th>links.youtube_id</th>\n",
       "      <th>links.article</th>\n",
       "      <th>links.wikipedia</th>\n",
       "      <th>fairings</th>\n",
       "    </tr>\n",
       "  </thead>\n",
       "  <tbody>\n",
       "    <tr>\n",
       "      <th>0</th>\n",
       "      <td>2006-03-17T00:00:00.000Z</td>\n",
       "      <td>1142553600.00</td>\n",
       "      <td>False</td>\n",
       "      <td>False</td>\n",
       "      <td>0.00</td>\n",
       "      <td>5e9d0d95eda69955f709d1eb</td>\n",
       "      <td>False</td>\n",
       "      <td>Engine failure at 33 seconds and loss of vehicle</td>\n",
       "      <td>[]</td>\n",
       "      <td>[]</td>\n",
       "      <td>[]</td>\n",
       "      <td>[5eb0e4b5b6c3bb0006eeb1e1]</td>\n",
       "      <td>5e9e4502f5090995de566f86</td>\n",
       "      <td>True</td>\n",
       "      <td>[{'time': 33, 'altitude': None, 'reason': 'merlin engine failure'}]</td>\n",
       "      <td>1</td>\n",
       "      <td>FalconSat</td>\n",
       "      <td>2006-03-24T22:30:00.000Z</td>\n",
       "      <td>1143239400</td>\n",
       "      <td>2006-03-25T10:30:00+12:00</td>\n",
       "      <td>hour</td>\n",
       "      <td>False</td>\n",
       "      <td>[{'core': '5e9e289df35918033d3b2623', 'flight': 1, 'gridfins': False, 'legs': False, 'reused': False, 'landing_attempt': False, 'landing_success': None, 'landing_type': None, 'landpad': None}]</td>\n",
       "      <td>5eb87cd9ffd86e000604b32a</td>\n",
       "      <td>False</td>\n",
       "      <td>False</td>\n",
       "      <td>False</td>\n",
       "      <td>[]</td>\n",
       "      <td>https://images2.imgbox.com/3c/0e/T8iJcSN3_o.png</td>\n",
       "      <td>https://images2.imgbox.com/40/e3/GypSkayF_o.png</td>\n",
       "      <td>None</td>\n",
       "      <td>None</td>\n",
       "      <td>None</td>\n",
       "      <td>None</td>\n",
       "      <td>[]</td>\n",
       "      <td>[]</td>\n",
       "      <td>None</td>\n",
       "      <td>https://www.youtube.com/watch?v=0a_00nJ_Y88</td>\n",
       "      <td>0a_00nJ_Y88</td>\n",
       "      <td>https://www.space.com/2196-spacex-inaugural-falcon-1-rocket-lost-launch.html</td>\n",
       "      <td>https://en.wikipedia.org/wiki/DemoSat</td>\n",
       "      <td>NaN</td>\n",
       "    </tr>\n",
       "  </tbody>\n",
       "</table>\n",
       "</div>"
      ],
      "text/plain": [
       "       static_fire_date_utc  static_fire_date_unix    tbd    net  window                    rocket  success                                           details crew ships capsules                    payloads                 launchpad  auto_update                                                             failures  flight_number       name                  date_utc   date_unix                 date_local date_precision  upcoming                                                                                                                                                                                             cores                        id fairings.reused fairings.recovery_attempt fairings.recovered fairings.ships                                links.patch.small                                links.patch.large links.reddit.campaign links.reddit.launch links.reddit.media links.reddit.recovery links.flickr.small links.flickr.original links.presskit                                links.webcast links.youtube_id                                                                 links.article                        links.wikipedia  fairings\n",
       "0  2006-03-17T00:00:00.000Z          1142553600.00  False  False    0.00  5e9d0d95eda69955f709d1eb    False  Engine failure at 33 seconds and loss of vehicle   []    []       []  [5eb0e4b5b6c3bb0006eeb1e1]  5e9e4502f5090995de566f86         True  [{'time': 33, 'altitude': None, 'reason': 'merlin engine failure'}]              1  FalconSat  2006-03-24T22:30:00.000Z  1143239400  2006-03-25T10:30:00+12:00           hour     False  [{'core': '5e9e289df35918033d3b2623', 'flight': 1, 'gridfins': False, 'legs': False, 'reused': False, 'landing_attempt': False, 'landing_success': None, 'landing_type': None, 'landpad': None}]  5eb87cd9ffd86e000604b32a           False                     False              False             []  https://images2.imgbox.com/3c/0e/T8iJcSN3_o.png  https://images2.imgbox.com/40/e3/GypSkayF_o.png                  None                None               None                  None                 []                    []           None  https://www.youtube.com/watch?v=0a_00nJ_Y88      0a_00nJ_Y88  https://www.space.com/2196-spacex-inaugural-falcon-1-rocket-lost-launch.html  https://en.wikipedia.org/wiki/DemoSat       NaN"
      ]
     },
     "execution_count": 11,
     "metadata": {},
     "output_type": "execute_result"
    }
   ],
   "source": [
    "data_json=response.json()\n",
    "data=pd.json_normalize(data_json)\n",
    "data.head(1)"
   ]
  },
  {
   "cell_type": "markdown",
   "metadata": {},
   "source": [
    "You will notice that a lot of the data are IDs. For example the rocket column has no information about the rocket just an identification number.\n",
    "\n",
    "We will now use the API again to get information about the launches using the IDs given for each launch. Specifically we will be using columns <code>rocket</code>, <code>payloads</code>, <code>launchpad</code>, and <code>cores</code>.\n"
   ]
  },
  {
   "cell_type": "code",
   "execution_count": 12,
   "metadata": {},
   "outputs": [
    {
     "data": {
      "text/html": [
       "<div>\n",
       "<style scoped>\n",
       "    .dataframe tbody tr th:only-of-type {\n",
       "        vertical-align: middle;\n",
       "    }\n",
       "\n",
       "    .dataframe tbody tr th {\n",
       "        vertical-align: top;\n",
       "    }\n",
       "\n",
       "    .dataframe thead th {\n",
       "        text-align: right;\n",
       "    }\n",
       "</style>\n",
       "<table border=\"1\" class=\"dataframe\">\n",
       "  <thead>\n",
       "    <tr style=\"text-align: right;\">\n",
       "      <th></th>\n",
       "      <th>rocket</th>\n",
       "      <th>payloads</th>\n",
       "      <th>launchpad</th>\n",
       "      <th>cores</th>\n",
       "      <th>flight_number</th>\n",
       "      <th>date_utc</th>\n",
       "    </tr>\n",
       "  </thead>\n",
       "  <tbody>\n",
       "    <tr>\n",
       "      <th>0</th>\n",
       "      <td>5e9d0d95eda69955f709d1eb</td>\n",
       "      <td>[5eb0e4b5b6c3bb0006eeb1e1]</td>\n",
       "      <td>5e9e4502f5090995de566f86</td>\n",
       "      <td>[{'core': '5e9e289df35918033d3b2623', 'flight': 1, 'gridfins': False, 'legs': False, 'reused': False, 'landing_attempt': False, 'landing_success': None, 'landing_type': None, 'landpad': None}]</td>\n",
       "      <td>1</td>\n",
       "      <td>2006-03-24T22:30:00.000Z</td>\n",
       "    </tr>\n",
       "  </tbody>\n",
       "</table>\n",
       "</div>"
      ],
      "text/plain": [
       "                     rocket                    payloads                 launchpad                                                                                                                                                                                             cores  flight_number                  date_utc\n",
       "0  5e9d0d95eda69955f709d1eb  [5eb0e4b5b6c3bb0006eeb1e1]  5e9e4502f5090995de566f86  [{'core': '5e9e289df35918033d3b2623', 'flight': 1, 'gridfins': False, 'legs': False, 'reused': False, 'landing_attempt': False, 'landing_success': None, 'landing_type': None, 'landpad': None}]              1  2006-03-24T22:30:00.000Z"
      ]
     },
     "execution_count": 12,
     "metadata": {},
     "output_type": "execute_result"
    }
   ],
   "source": [
    "# ----------------------------------------------------------------------------------\n",
    "# Selecting relevant columns:\n",
    "# ----------------------------------------------------------------------------------\n",
    "# Create a subset of the original DataFrame by retaining only the columns that contain\n",
    "# the information relevant to the analysis. We keep:\n",
    "#   - 'rocket'        : Identifier or name of the rocket used in the launch.\n",
    "#   - 'payloads'      : List containing information about the payloads associated with the launch.\n",
    "#   - 'launchpad'     : Identifier or location of the launchpad.\n",
    "#   - 'cores'         : List containing information about the rocket cores (boosters) used in the launch.\n",
    "#   - 'flight_number' : Unique flight number assigned to the launch.\n",
    "#   - 'date_utc'      : Date and time of the launch in UTC format.\n",
    "data = data[['rocket', 'payloads', 'launchpad', 'cores', 'flight_number', 'date_utc']]\n",
    "data.head(1)"
   ]
  },
  {
   "cell_type": "code",
   "execution_count": 13,
   "metadata": {},
   "outputs": [],
   "source": [
    "# ----------------------------------------------------------------------------------\n",
    "# Filtering rows to simplify the analysis:\n",
    "# ----------------------------------------------------------------------------------\n",
    "# In the original DataFrame, the 'cores' and 'payloads' columns contain lists with\n",
    "# one or more dictionaries. Since launches involving multiple cores or payloads\n",
    "# can complicate the analysis, we want to keep only the launches that have exactly\n",
    "# one core and one payload. We achieve this by filtering rows based on the length of\n",
    "# the lists in these columns.\n",
    "\n",
    "# ------------------------------------------------------------------------------\n",
    "# Step 1: Filter launches with exactly one core ('cores')\n",
    "# ------------------------------------------------------------------------------\n",
    "# - data['cores'].map(len):\n",
    "#     This applies the len() function to each cell in the 'cores' column.\n",
    "#     Since each cell is a list, it returns the number of elements in that list \n",
    "#     (i.e., the number of cores for that launch).\n",
    "#\n",
    "# - data['cores'].map(len) == 1:\n",
    "#     This compares the length to 1, producing a boolean Series where True indicates \n",
    "#     that the list contains exactly one element (a single core).\n",
    "#\n",
    "# - data[data['cores'].map(len) == 1]:\n",
    "#     This filters the DataFrame to keep only the rows where the 'cores' column has \n",
    "#     exactly one core.\n",
    "data = data[data['cores'].map(len) == 1]\n",
    "\n",
    "# ------------------------------------------------------------------------------\n",
    "# Step 2: Filter launches with exactly one payload ('payloads')\n",
    "# ------------------------------------------------------------------------------\n",
    "# The same process is applied to the 'payloads' column. This line filters the DataFrame\n",
    "# to retain only the rows where the 'payloads' list has exactly one element.\n",
    "# The result is a DataFrame where:\n",
    "#   - Each launch has exactly one core in the 'cores' column.\n",
    "#   - Each launch has exactly one payload in the 'payloads' column.\n",
    "data = data[data['payloads'].map(len) == 1]\n",
    "\n",
    "# ------------------------------------------------------------------------------\n",
    "# Step 3: Extract the single dictionary from the 'cores' and 'payloads' lists\n",
    "# ------------------------------------------------------------------------------\n",
    "# Since each cell in 'cores' and 'payloads' now contains a list with exactly one element,\n",
    "# we extract that single value (a dictionary) and replace the list with the dictionary itself.\n",
    "#\n",
    "# - For 'cores', the lambda function lambda x: x[0] returns the first (and only) element of the list.\n",
    "# - The same is done for 'payloads'.\n",
    "data['cores'] = data['cores'].map(lambda x: x[0])\n",
    "data['payloads'] = data['payloads'].map(lambda x: x[0])\n",
    "\n",
    "# ------------------------------------------------------------------------------\n",
    "# Step 4: Convert 'date_utc' to a datetime object and extract only the date\n",
    "# ------------------------------------------------------------------------------\n",
    "# The 'date_utc' column contains the launch date and time as a string.\n",
    "# - pd.to_datetime(data['date_utc']) converts this string to a datetime object.\n",
    "# - The dt.date accessor extracts just the date component (year, month, day), removing the time.\n",
    "# A new column 'date' is created with this date information.\n",
    "data['date'] = pd.to_datetime(data['date_utc']).dt.date\n",
    "\n",
    "# ------------------------------------------------------------------------------\n",
    "# Step 5: Filter the DataFrame based on the launch date\n",
    "# ------------------------------------------------------------------------------\n",
    "# Using the newly created 'date' column, we filter the DataFrame to keep only the launches\n",
    "# that occurred on or before November 13, 2020. This helps narrow the analysis to a specific\n",
    "# timeframe.\n",
    "data = data[data['date'] <= datetime.date(2020, 11, 13)]\n"
   ]
  },
  {
   "cell_type": "code",
   "execution_count": 14,
   "metadata": {},
   "outputs": [
    {
     "data": {
      "text/html": [
       "<div>\n",
       "<style scoped>\n",
       "    .dataframe tbody tr th:only-of-type {\n",
       "        vertical-align: middle;\n",
       "    }\n",
       "\n",
       "    .dataframe tbody tr th {\n",
       "        vertical-align: top;\n",
       "    }\n",
       "\n",
       "    .dataframe thead th {\n",
       "        text-align: right;\n",
       "    }\n",
       "</style>\n",
       "<table border=\"1\" class=\"dataframe\">\n",
       "  <thead>\n",
       "    <tr style=\"text-align: right;\">\n",
       "      <th></th>\n",
       "      <th>rocket</th>\n",
       "      <th>payloads</th>\n",
       "      <th>launchpad</th>\n",
       "      <th>cores</th>\n",
       "      <th>flight_number</th>\n",
       "      <th>date_utc</th>\n",
       "      <th>date</th>\n",
       "    </tr>\n",
       "  </thead>\n",
       "  <tbody>\n",
       "    <tr>\n",
       "      <th>0</th>\n",
       "      <td>5e9d0d95eda69955f709d1eb</td>\n",
       "      <td>5eb0e4b5b6c3bb0006eeb1e1</td>\n",
       "      <td>5e9e4502f5090995de566f86</td>\n",
       "      <td>{'core': '5e9e289df35918033d3b2623', 'flight': 1, 'gridfins': False, 'legs': False, 'reused': False, 'landing_attempt': False, 'landing_success': None, 'landing_type': None, 'landpad': None}</td>\n",
       "      <td>1</td>\n",
       "      <td>2006-03-24T22:30:00.000Z</td>\n",
       "      <td>2006-03-24</td>\n",
       "    </tr>\n",
       "  </tbody>\n",
       "</table>\n",
       "</div>"
      ],
      "text/plain": [
       "                     rocket                  payloads                 launchpad                                                                                                                                                                                           cores  flight_number                  date_utc        date\n",
       "0  5e9d0d95eda69955f709d1eb  5eb0e4b5b6c3bb0006eeb1e1  5e9e4502f5090995de566f86  {'core': '5e9e289df35918033d3b2623', 'flight': 1, 'gridfins': False, 'legs': False, 'reused': False, 'landing_attempt': False, 'landing_success': None, 'landing_type': None, 'landpad': None}              1  2006-03-24T22:30:00.000Z  2006-03-24"
      ]
     },
     "execution_count": 14,
     "metadata": {},
     "output_type": "execute_result"
    }
   ],
   "source": [
    "data.head(1)"
   ]
  },
  {
   "cell_type": "markdown",
   "metadata": {},
   "source": [
    "* From the <code>rocket</code> we would like to learn the booster name\n",
    "\n",
    "* From the <code>payload</code> we would like to learn the mass of the payload and the orbit that it is going to\n",
    "\n",
    "* From the <code>launchpad</code> we would like to know the name of the launch site being used, the longitude, and the latitude.\n",
    "\n",
    "* **From <code>cores</code> we would like to learn the outcome of the landing, the type of the landing, number of flights with that core, whether gridfins were used, whether the core is reused, whether legs were used, the landing pad used, the block of the core which is a number used to seperate version of cores, the number of times this specific core has been reused, and the serial of the core.**\n",
    "\n",
    "The data from these requests will be stored in lists and will be used to create a new dataframe.\n"
   ]
  },
  {
   "cell_type": "code",
   "execution_count": 15,
   "metadata": {},
   "outputs": [],
   "source": [
    "#Global variables \n",
    "BoosterVersion = []\n",
    "PayloadMass = []\n",
    "Orbit = []\n",
    "LaunchSite = []\n",
    "Outcome = []\n",
    "Flights = []\n",
    "GridFins = []\n",
    "Reused = []\n",
    "Legs = []\n",
    "LandingPad = []\n",
    "Block = []\n",
    "ReusedCount = []\n",
    "Serial = []\n",
    "Longitude = []\n",
    "Latitude = []"
   ]
  },
  {
   "cell_type": "markdown",
   "metadata": {},
   "source": [
    "### 🔧 Running the Function to Collect Core Data\n",
    "\n",
    " Now let's execute the fuctions to retrieve and store detailed information about each rocket core from the SpaceX dataset. This step will populate the external lists with values such as block number, reuse count, serial number, landing details, and more."
   ]
  },
  {
   "cell_type": "code",
   "execution_count": 16,
   "metadata": {},
   "outputs": [],
   "source": [
    "#Now, let's apply <code> getBoosterVersion</code> function method to get the booster version\n",
    "getBoosterVersion(data)\n",
    "# Call getLaunchSite\n",
    "getLaunchSite(data)\n",
    "\n",
    "# Call getPayloadData\n",
    "getPayloadData(data)\n",
    "\n",
    "# Call getCoreData\n",
    "getCoreData(data)"
   ]
  },
  {
   "cell_type": "markdown",
   "metadata": {},
   "source": [
    "Finally lets construct our dataset using the data we have obtained. We we combine the columns into a dictionary."
   ]
  },
  {
   "cell_type": "code",
   "execution_count": 17,
   "metadata": {},
   "outputs": [],
   "source": [
    "# ----------------------------------------------------------------------------------\n",
    "# Constructing the Final Dataset\n",
    "# ----------------------------------------------------------------------------------\n",
    "# Now that we have extracted all the required data, we will combine everything into\n",
    "# a single dictionary. Each key in the dictionary represents a column in the final\n",
    "# DataFrame, and the value is a list containing the corresponding column values.\n",
    "\n",
    "# Note:\n",
    "# We use list(data['column_name']) to convert each pandas Series into a list.\n",
    "# This ensures consistency, as some of the other data (like BoosterVersion, PayloadMass, etc.)\n",
    "# are already stored in lists. By converting all to lists, we can build the DataFrame\n",
    "# without shape mismatches or inconsistencies.\n",
    "\n",
    "launch_dict = {\n",
    "    'FlightNumber': list(data['flight_number']),   # Convert column to list to ensure uniform data type\n",
    "    'Date': list(data['date']),                    # Same here for launch date\n",
    "    'BoosterVersion': BoosterVersion,              # Booster versions collected earlier\n",
    "    'PayloadMass': PayloadMass,                    # Payload mass in kg\n",
    "    'Orbit': Orbit,                                # Orbit type for each mission\n",
    "    'LaunchSite': LaunchSite,                      # Launch site used for each flight\n",
    "    'Outcome': Outcome,                            # Landing outcome (e.g., \"True RTLS\", \"False Ocean\")\n",
    "    'Flights': Flights,                            # Number of flights the booster has made\n",
    "    'GridFins': GridFins,                          # Whether grid fins were used\n",
    "    'Reused': Reused,                              # Whether the booster was reused\n",
    "    'Legs': Legs,                                  # Whether landing legs were present\n",
    "    'LandingPad': LandingPad,                      # ID of the landing pad used\n",
    "    'Block': Block,                                # Block number from API\n",
    "    'ReusedCount': ReusedCount,                    # Number of times the booster was reused\n",
    "    'Serial': Serial,                              # Serial number of the booster\n",
    "    'Longitude': Longitude,                        # Launch site longitude\n",
    "    'Latitude': Latitude                           # Launch site latitude\n",
    "}\n",
    "\n"
   ]
  },
  {
   "cell_type": "markdown",
   "metadata": {},
   "source": [
    "Then, we need to create a Pandas data frame from the dictionary launch_dict."
   ]
  },
  {
   "cell_type": "code",
   "execution_count": 18,
   "metadata": {},
   "outputs": [],
   "source": [
    " # ----------------------------------------------------------------------------------\n",
    "# Creating a Pandas DataFrame from the launch_dict\n",
    "# ----------------------------------------------------------------------------------\n",
    "# We pass the dictionary (where keys are column names and values are lists) into \n",
    "# the pd.DataFrame() constructor. This creates a structured table with rows and columns.\n",
    "\n",
    "df = pd.DataFrame(launch_dict)\n",
    "\n",
    "\n"
   ]
  },
  {
   "cell_type": "code",
   "execution_count": 19,
   "metadata": {},
   "outputs": [
    {
     "data": {
      "text/html": [
       "<div>\n",
       "<style scoped>\n",
       "    .dataframe tbody tr th:only-of-type {\n",
       "        vertical-align: middle;\n",
       "    }\n",
       "\n",
       "    .dataframe tbody tr th {\n",
       "        vertical-align: top;\n",
       "    }\n",
       "\n",
       "    .dataframe thead th {\n",
       "        text-align: right;\n",
       "    }\n",
       "</style>\n",
       "<table border=\"1\" class=\"dataframe\">\n",
       "  <thead>\n",
       "    <tr style=\"text-align: right;\">\n",
       "      <th></th>\n",
       "      <th>FlightNumber</th>\n",
       "      <th>Date</th>\n",
       "      <th>BoosterVersion</th>\n",
       "      <th>PayloadMass</th>\n",
       "      <th>Orbit</th>\n",
       "      <th>LaunchSite</th>\n",
       "      <th>Outcome</th>\n",
       "      <th>Flights</th>\n",
       "      <th>GridFins</th>\n",
       "      <th>Reused</th>\n",
       "      <th>Legs</th>\n",
       "      <th>LandingPad</th>\n",
       "      <th>Block</th>\n",
       "      <th>ReusedCount</th>\n",
       "      <th>Serial</th>\n",
       "      <th>Longitude</th>\n",
       "      <th>Latitude</th>\n",
       "    </tr>\n",
       "  </thead>\n",
       "  <tbody>\n",
       "    <tr>\n",
       "      <th>0</th>\n",
       "      <td>1</td>\n",
       "      <td>2006-03-24</td>\n",
       "      <td>Falcon 1</td>\n",
       "      <td>20.00</td>\n",
       "      <td>LEO</td>\n",
       "      <td>Kwajalein Atoll</td>\n",
       "      <td>None None</td>\n",
       "      <td>1</td>\n",
       "      <td>False</td>\n",
       "      <td>False</td>\n",
       "      <td>False</td>\n",
       "      <td>None</td>\n",
       "      <td>NaN</td>\n",
       "      <td>0</td>\n",
       "      <td>Merlin1A</td>\n",
       "      <td>167.74</td>\n",
       "      <td>9.05</td>\n",
       "    </tr>\n",
       "  </tbody>\n",
       "</table>\n",
       "</div>"
      ],
      "text/plain": [
       "   FlightNumber        Date BoosterVersion  PayloadMass Orbit       LaunchSite    Outcome  Flights  GridFins  Reused   Legs LandingPad  Block  ReusedCount    Serial  Longitude  Latitude\n",
       "0             1  2006-03-24       Falcon 1        20.00   LEO  Kwajalein Atoll  None None        1     False   False  False       None    NaN            0  Merlin1A     167.74      9.05"
      ]
     },
     "execution_count": 19,
     "metadata": {},
     "output_type": "execute_result"
    }
   ],
   "source": [
    "df.head(1)"
   ]
  },
  {
   "cell_type": "markdown",
   "metadata": {},
   "source": [
    "### Task 2: Filter the dataframe to only include `Falcon 9` launches"
   ]
  },
  {
   "cell_type": "markdown",
   "metadata": {},
   "source": [
    "Finally we will remove the Falcon 1 launches keeping only the Falcon 9 launches. Filter the data dataframe using the <code>BoosterVersion</code> column to only keep the Falcon 9 launches. Save the filtered data to a new dataframe called <code>data_falcon9</code>.\n"
   ]
  },
  {
   "cell_type": "code",
   "execution_count": 20,
   "metadata": {},
   "outputs": [
    {
     "name": "stdout",
     "output_type": "stream",
     "text": [
      "<class 'pandas.core.frame.DataFrame'>\n",
      "Index: 90 entries, 4 to 93\n",
      "Data columns (total 17 columns):\n",
      " #   Column          Non-Null Count  Dtype  \n",
      "---  ------          --------------  -----  \n",
      " 0   FlightNumber    90 non-null     int64  \n",
      " 1   Date            90 non-null     object \n",
      " 2   BoosterVersion  90 non-null     object \n",
      " 3   PayloadMass     85 non-null     float64\n",
      " 4   Orbit           90 non-null     object \n",
      " 5   LaunchSite      90 non-null     object \n",
      " 6   Outcome         90 non-null     object \n",
      " 7   Flights         90 non-null     int64  \n",
      " 8   GridFins        90 non-null     bool   \n",
      " 9   Reused          90 non-null     bool   \n",
      " 10  Legs            90 non-null     bool   \n",
      " 11  LandingPad      64 non-null     object \n",
      " 12  Block           90 non-null     float64\n",
      " 13  ReusedCount     90 non-null     int64  \n",
      " 14  Serial          90 non-null     object \n",
      " 15  Longitude       90 non-null     float64\n",
      " 16  Latitude        90 non-null     float64\n",
      "dtypes: bool(3), float64(4), int64(3), object(7)\n",
      "memory usage: 10.8+ KB\n"
     ]
    }
   ],
   "source": [
    "# Filter the launches to include only those with the 'Falcon 9' rocket\n",
    "# Use the 'BoosterVersion' column to identify Falcon 9 launches.\n",
    "# Create a new DataFrame called 'data_falcon9' that contains only rows where 'BoosterVersion' equals 'Falcon 9'.\n",
    "data_falcon9 = df[df['BoosterVersion'] == 'Falcon 9']\n",
    "\n",
    "# Display the first rows of the filtered DataFrame to verify the operation was successful.\n",
    "# This allows us to visually inspect the data and ensure only Falcon 9 launches are included.\n",
    "# Count the number of Falcon 9 launches in the filtered DataFrame\n",
    "data_falcon9.info()"
   ]
  },
  {
   "cell_type": "markdown",
   "metadata": {},
   "source": [
    "Now that we have removed some values we should reset the FlgihtNumber column"
   ]
  },
  {
   "cell_type": "code",
   "execution_count": 21,
   "metadata": {},
   "outputs": [
    {
     "data": {
      "text/html": [
       "<div>\n",
       "<style scoped>\n",
       "    .dataframe tbody tr th:only-of-type {\n",
       "        vertical-align: middle;\n",
       "    }\n",
       "\n",
       "    .dataframe tbody tr th {\n",
       "        vertical-align: top;\n",
       "    }\n",
       "\n",
       "    .dataframe thead th {\n",
       "        text-align: right;\n",
       "    }\n",
       "</style>\n",
       "<table border=\"1\" class=\"dataframe\">\n",
       "  <thead>\n",
       "    <tr style=\"text-align: right;\">\n",
       "      <th></th>\n",
       "      <th>FlightNumber</th>\n",
       "      <th>Date</th>\n",
       "      <th>BoosterVersion</th>\n",
       "      <th>PayloadMass</th>\n",
       "      <th>Orbit</th>\n",
       "      <th>LaunchSite</th>\n",
       "      <th>Outcome</th>\n",
       "      <th>Flights</th>\n",
       "      <th>GridFins</th>\n",
       "      <th>Reused</th>\n",
       "      <th>Legs</th>\n",
       "      <th>LandingPad</th>\n",
       "      <th>Block</th>\n",
       "      <th>ReusedCount</th>\n",
       "      <th>Serial</th>\n",
       "      <th>Longitude</th>\n",
       "      <th>Latitude</th>\n",
       "    </tr>\n",
       "  </thead>\n",
       "  <tbody>\n",
       "    <tr>\n",
       "      <th>4</th>\n",
       "      <td>1</td>\n",
       "      <td>2010-06-04</td>\n",
       "      <td>Falcon 9</td>\n",
       "      <td>NaN</td>\n",
       "      <td>LEO</td>\n",
       "      <td>CCSFS SLC 40</td>\n",
       "      <td>None None</td>\n",
       "      <td>1</td>\n",
       "      <td>False</td>\n",
       "      <td>False</td>\n",
       "      <td>False</td>\n",
       "      <td>None</td>\n",
       "      <td>1.00</td>\n",
       "      <td>0</td>\n",
       "      <td>B0003</td>\n",
       "      <td>-80.58</td>\n",
       "      <td>28.56</td>\n",
       "    </tr>\n",
       "    <tr>\n",
       "      <th>5</th>\n",
       "      <td>2</td>\n",
       "      <td>2012-05-22</td>\n",
       "      <td>Falcon 9</td>\n",
       "      <td>525.00</td>\n",
       "      <td>LEO</td>\n",
       "      <td>CCSFS SLC 40</td>\n",
       "      <td>None None</td>\n",
       "      <td>1</td>\n",
       "      <td>False</td>\n",
       "      <td>False</td>\n",
       "      <td>False</td>\n",
       "      <td>None</td>\n",
       "      <td>1.00</td>\n",
       "      <td>0</td>\n",
       "      <td>B0005</td>\n",
       "      <td>-80.58</td>\n",
       "      <td>28.56</td>\n",
       "    </tr>\n",
       "    <tr>\n",
       "      <th>6</th>\n",
       "      <td>3</td>\n",
       "      <td>2013-03-01</td>\n",
       "      <td>Falcon 9</td>\n",
       "      <td>677.00</td>\n",
       "      <td>ISS</td>\n",
       "      <td>CCSFS SLC 40</td>\n",
       "      <td>None None</td>\n",
       "      <td>1</td>\n",
       "      <td>False</td>\n",
       "      <td>False</td>\n",
       "      <td>False</td>\n",
       "      <td>None</td>\n",
       "      <td>1.00</td>\n",
       "      <td>0</td>\n",
       "      <td>B0007</td>\n",
       "      <td>-80.58</td>\n",
       "      <td>28.56</td>\n",
       "    </tr>\n",
       "    <tr>\n",
       "      <th>7</th>\n",
       "      <td>4</td>\n",
       "      <td>2013-09-29</td>\n",
       "      <td>Falcon 9</td>\n",
       "      <td>500.00</td>\n",
       "      <td>PO</td>\n",
       "      <td>VAFB SLC 4E</td>\n",
       "      <td>False Ocean</td>\n",
       "      <td>1</td>\n",
       "      <td>False</td>\n",
       "      <td>False</td>\n",
       "      <td>False</td>\n",
       "      <td>None</td>\n",
       "      <td>1.00</td>\n",
       "      <td>0</td>\n",
       "      <td>B1003</td>\n",
       "      <td>-120.61</td>\n",
       "      <td>34.63</td>\n",
       "    </tr>\n",
       "    <tr>\n",
       "      <th>8</th>\n",
       "      <td>5</td>\n",
       "      <td>2013-12-03</td>\n",
       "      <td>Falcon 9</td>\n",
       "      <td>3170.00</td>\n",
       "      <td>GTO</td>\n",
       "      <td>CCSFS SLC 40</td>\n",
       "      <td>None None</td>\n",
       "      <td>1</td>\n",
       "      <td>False</td>\n",
       "      <td>False</td>\n",
       "      <td>False</td>\n",
       "      <td>None</td>\n",
       "      <td>1.00</td>\n",
       "      <td>0</td>\n",
       "      <td>B1004</td>\n",
       "      <td>-80.58</td>\n",
       "      <td>28.56</td>\n",
       "    </tr>\n",
       "  </tbody>\n",
       "</table>\n",
       "</div>"
      ],
      "text/plain": [
       "   FlightNumber        Date BoosterVersion  PayloadMass Orbit    LaunchSite      Outcome  Flights  GridFins  Reused   Legs LandingPad  Block  ReusedCount Serial  Longitude  Latitude\n",
       "4             1  2010-06-04       Falcon 9          NaN   LEO  CCSFS SLC 40    None None        1     False   False  False       None   1.00            0  B0003     -80.58     28.56\n",
       "5             2  2012-05-22       Falcon 9       525.00   LEO  CCSFS SLC 40    None None        1     False   False  False       None   1.00            0  B0005     -80.58     28.56\n",
       "6             3  2013-03-01       Falcon 9       677.00   ISS  CCSFS SLC 40    None None        1     False   False  False       None   1.00            0  B0007     -80.58     28.56\n",
       "7             4  2013-09-29       Falcon 9       500.00    PO   VAFB SLC 4E  False Ocean        1     False   False  False       None   1.00            0  B1003    -120.61     34.63\n",
       "8             5  2013-12-03       Falcon 9      3170.00   GTO  CCSFS SLC 40    None None        1     False   False  False       None   1.00            0  B1004     -80.58     28.56"
      ]
     },
     "execution_count": 21,
     "metadata": {},
     "output_type": "execute_result"
    }
   ],
   "source": [
    "# ----------------------------------------------------------------------------------\n",
    "# After removing some rows from the dataset, the FlightNumber column may have gaps \n",
    "# or be out of order. This line resets the FlightNumber column so it contains \n",
    "# consecutive numbers starting from 1.\n",
    "# ----------------------------------------------------------------------------------\n",
    "\n",
    "# Replace the entire 'FlightNumber' column with a new sequence of integers\n",
    "# We use .loc to select all rows (:) in the 'FlightNumber' column\n",
    "# range(1, data_falcon9.shape[0]+1) generates numbers from 1 to the total number of rows (inclusive)\n",
    "# We convert the range to a list so it can be assigned directly to the column\n",
    "data_falcon9.loc[:, 'FlightNumber'] = list(range(1, data_falcon9.shape[0] + 1)) \n",
    "\n",
    "# Display the updated DataFrame\n",
    "data_falcon9.head()\n"
   ]
  },
  {
   "cell_type": "markdown",
   "metadata": {},
   "source": [
    "## Data Wrangling\n",
    "We can see below that some of the rows are missing values in our dataset."
   ]
  },
  {
   "cell_type": "code",
   "execution_count": 22,
   "metadata": {},
   "outputs": [
    {
     "data": {
      "text/plain": [
       "FlightNumber       0\n",
       "Date               0\n",
       "BoosterVersion     0\n",
       "PayloadMass        5\n",
       "Orbit              0\n",
       "LaunchSite         0\n",
       "Outcome            0\n",
       "Flights            0\n",
       "GridFins           0\n",
       "Reused             0\n",
       "Legs               0\n",
       "LandingPad        26\n",
       "Block              0\n",
       "ReusedCount        0\n",
       "Serial             0\n",
       "Longitude          0\n",
       "Latitude           0\n",
       "dtype: int64"
      ]
     },
     "execution_count": 22,
     "metadata": {},
     "output_type": "execute_result"
    }
   ],
   "source": [
    "# ----------------------------------------------------------------------------------\n",
    "# Null Values Analysis in the DataFrame\n",
    "# ----------------------------------------------------------------------------------\n",
    "# The .isnull() function is used to identify null (NaN) values in the DataFrame.\n",
    "# It returns a DataFrame of the same size with boolean values:\n",
    "# - True indicates that the value is null.\n",
    "# - False indicates that the value is not null.\n",
    "#\n",
    "# Then, .sum() is applied to count the total number of null values in each column.\n",
    "# This provides an overview of the columns with missing data and the number of missing values in each.\n",
    "#\n",
    "# This analysis is useful for identifying data quality issues and deciding\n",
    "# how to handle missing values (e.g., removing them, imputing them, etc.).\n",
    "data_falcon9.isnull().sum()\n"
   ]
  },
  {
   "cell_type": "markdown",
   "metadata": {},
   "source": [
    "Before we can continue we must deal with these missing values. The <code>LandingPad</code> column will retain None values to represent when landing pads were not used."
   ]
  },
  {
   "cell_type": "markdown",
   "metadata": {},
   "source": [
    "### Task 3: Dealing with Missing Values\n",
    "\n",
    "Calculate below the mean for the <code>PayloadMass</code> using the <code>.mean()</code>. Then use the mean and the <code>.replace()</code> function to replace `np.nan` values in the data with the mean you calculated.\n"
   ]
  },
  {
   "cell_type": "code",
   "execution_count": 23,
   "metadata": {},
   "outputs": [],
   "source": [
    "\n",
    "# Calculate the mean value of PayloadMass \n",
    "calcular_media(data_falcon9,'PayloadMass',float)\n",
    "\n",
    "\n",
    "# Replace the np.nan values with its mean value\n",
    "data_falcon9.loc[:,\"PayloadMass\"]=data_falcon9['PayloadMass'].fillna(calcular_media(data_falcon9,'PayloadMass',float))"
   ]
  },
  {
   "cell_type": "markdown",
   "metadata": {},
   "source": [
    "You should see the number of missing values of the <code>PayLoadMass</code> change to zero.\n",
    "\n",
    "Now we should have no missing values in our dataset except for in <code>LandingPad</code>.\n",
    "\n"
   ]
  },
  {
   "cell_type": "code",
   "execution_count": 24,
   "metadata": {},
   "outputs": [
    {
     "data": {
      "text/plain": [
       "FlightNumber       0\n",
       "Date               0\n",
       "BoosterVersion     0\n",
       "PayloadMass        0\n",
       "Orbit              0\n",
       "LaunchSite         0\n",
       "Outcome            0\n",
       "Flights            0\n",
       "GridFins           0\n",
       "Reused             0\n",
       "Legs               0\n",
       "LandingPad        26\n",
       "Block              0\n",
       "ReusedCount        0\n",
       "Serial             0\n",
       "Longitude          0\n",
       "Latitude           0\n",
       "dtype: int64"
      ]
     },
     "execution_count": 24,
     "metadata": {},
     "output_type": "execute_result"
    }
   ],
   "source": [
    "data_falcon9.isnull().sum()"
   ]
  },
  {
   "cell_type": "code",
   "execution_count": 25,
   "metadata": {},
   "outputs": [
    {
     "data": {
      "text/html": [
       "<div>\n",
       "<style scoped>\n",
       "    .dataframe tbody tr th:only-of-type {\n",
       "        vertical-align: middle;\n",
       "    }\n",
       "\n",
       "    .dataframe tbody tr th {\n",
       "        vertical-align: top;\n",
       "    }\n",
       "\n",
       "    .dataframe thead th {\n",
       "        text-align: right;\n",
       "    }\n",
       "</style>\n",
       "<table border=\"1\" class=\"dataframe\">\n",
       "  <thead>\n",
       "    <tr style=\"text-align: right;\">\n",
       "      <th></th>\n",
       "      <th>FlightNumber</th>\n",
       "      <th>Date</th>\n",
       "      <th>BoosterVersion</th>\n",
       "      <th>PayloadMass</th>\n",
       "      <th>Orbit</th>\n",
       "      <th>LaunchSite</th>\n",
       "      <th>Outcome</th>\n",
       "      <th>Flights</th>\n",
       "      <th>GridFins</th>\n",
       "      <th>Reused</th>\n",
       "      <th>Legs</th>\n",
       "      <th>LandingPad</th>\n",
       "      <th>Block</th>\n",
       "      <th>ReusedCount</th>\n",
       "      <th>Serial</th>\n",
       "      <th>Longitude</th>\n",
       "      <th>Latitude</th>\n",
       "    </tr>\n",
       "  </thead>\n",
       "  <tbody>\n",
       "    <tr>\n",
       "      <th>4</th>\n",
       "      <td>1</td>\n",
       "      <td>2010-06-04</td>\n",
       "      <td>Falcon 9</td>\n",
       "      <td>6123.55</td>\n",
       "      <td>LEO</td>\n",
       "      <td>CCSFS SLC 40</td>\n",
       "      <td>None None</td>\n",
       "      <td>1</td>\n",
       "      <td>False</td>\n",
       "      <td>False</td>\n",
       "      <td>False</td>\n",
       "      <td>None</td>\n",
       "      <td>1.00</td>\n",
       "      <td>0</td>\n",
       "      <td>B0003</td>\n",
       "      <td>-80.58</td>\n",
       "      <td>28.56</td>\n",
       "    </tr>\n",
       "    <tr>\n",
       "      <th>5</th>\n",
       "      <td>2</td>\n",
       "      <td>2012-05-22</td>\n",
       "      <td>Falcon 9</td>\n",
       "      <td>525.00</td>\n",
       "      <td>LEO</td>\n",
       "      <td>CCSFS SLC 40</td>\n",
       "      <td>None None</td>\n",
       "      <td>1</td>\n",
       "      <td>False</td>\n",
       "      <td>False</td>\n",
       "      <td>False</td>\n",
       "      <td>None</td>\n",
       "      <td>1.00</td>\n",
       "      <td>0</td>\n",
       "      <td>B0005</td>\n",
       "      <td>-80.58</td>\n",
       "      <td>28.56</td>\n",
       "    </tr>\n",
       "    <tr>\n",
       "      <th>6</th>\n",
       "      <td>3</td>\n",
       "      <td>2013-03-01</td>\n",
       "      <td>Falcon 9</td>\n",
       "      <td>677.00</td>\n",
       "      <td>ISS</td>\n",
       "      <td>CCSFS SLC 40</td>\n",
       "      <td>None None</td>\n",
       "      <td>1</td>\n",
       "      <td>False</td>\n",
       "      <td>False</td>\n",
       "      <td>False</td>\n",
       "      <td>None</td>\n",
       "      <td>1.00</td>\n",
       "      <td>0</td>\n",
       "      <td>B0007</td>\n",
       "      <td>-80.58</td>\n",
       "      <td>28.56</td>\n",
       "    </tr>\n",
       "    <tr>\n",
       "      <th>7</th>\n",
       "      <td>4</td>\n",
       "      <td>2013-09-29</td>\n",
       "      <td>Falcon 9</td>\n",
       "      <td>500.00</td>\n",
       "      <td>PO</td>\n",
       "      <td>VAFB SLC 4E</td>\n",
       "      <td>False Ocean</td>\n",
       "      <td>1</td>\n",
       "      <td>False</td>\n",
       "      <td>False</td>\n",
       "      <td>False</td>\n",
       "      <td>None</td>\n",
       "      <td>1.00</td>\n",
       "      <td>0</td>\n",
       "      <td>B1003</td>\n",
       "      <td>-120.61</td>\n",
       "      <td>34.63</td>\n",
       "    </tr>\n",
       "    <tr>\n",
       "      <th>8</th>\n",
       "      <td>5</td>\n",
       "      <td>2013-12-03</td>\n",
       "      <td>Falcon 9</td>\n",
       "      <td>3170.00</td>\n",
       "      <td>GTO</td>\n",
       "      <td>CCSFS SLC 40</td>\n",
       "      <td>None None</td>\n",
       "      <td>1</td>\n",
       "      <td>False</td>\n",
       "      <td>False</td>\n",
       "      <td>False</td>\n",
       "      <td>None</td>\n",
       "      <td>1.00</td>\n",
       "      <td>0</td>\n",
       "      <td>B1004</td>\n",
       "      <td>-80.58</td>\n",
       "      <td>28.56</td>\n",
       "    </tr>\n",
       "  </tbody>\n",
       "</table>\n",
       "</div>"
      ],
      "text/plain": [
       "   FlightNumber        Date BoosterVersion  PayloadMass Orbit    LaunchSite      Outcome  Flights  GridFins  Reused   Legs LandingPad  Block  ReusedCount Serial  Longitude  Latitude\n",
       "4             1  2010-06-04       Falcon 9      6123.55   LEO  CCSFS SLC 40    None None        1     False   False  False       None   1.00            0  B0003     -80.58     28.56\n",
       "5             2  2012-05-22       Falcon 9       525.00   LEO  CCSFS SLC 40    None None        1     False   False  False       None   1.00            0  B0005     -80.58     28.56\n",
       "6             3  2013-03-01       Falcon 9       677.00   ISS  CCSFS SLC 40    None None        1     False   False  False       None   1.00            0  B0007     -80.58     28.56\n",
       "7             4  2013-09-29       Falcon 9       500.00    PO   VAFB SLC 4E  False Ocean        1     False   False  False       None   1.00            0  B1003    -120.61     34.63\n",
       "8             5  2013-12-03       Falcon 9      3170.00   GTO  CCSFS SLC 40    None None        1     False   False  False       None   1.00            0  B1004     -80.58     28.56"
      ]
     },
     "execution_count": 25,
     "metadata": {},
     "output_type": "execute_result"
    }
   ],
   "source": [
    "data_falcon9.head()"
   ]
  },
  {
   "cell_type": "markdown",
   "metadata": {},
   "source": [
    "We can now export it to a <b>CSV</b> for the next section,but to make the answers consistent, in the next lab we will provide data in a pre-selected date range. "
   ]
  },
  {
   "cell_type": "code",
   "execution_count": 26,
   "metadata": {},
   "outputs": [],
   "source": [
    "#data_falcon9.to_csv(\"dataset_part_1.csv\",index=False)"
   ]
  }
 ],
 "metadata": {
  "kernelspec": {
   "display_name": "base",
   "language": "python",
   "name": "python3"
  },
  "language_info": {
   "codemirror_mode": {
    "name": "ipython",
    "version": 3
   },
   "file_extension": ".py",
   "mimetype": "text/x-python",
   "name": "python",
   "nbconvert_exporter": "python",
   "pygments_lexer": "ipython3",
   "version": "3.11.7"
  }
 },
 "nbformat": 4,
 "nbformat_minor": 2
}
